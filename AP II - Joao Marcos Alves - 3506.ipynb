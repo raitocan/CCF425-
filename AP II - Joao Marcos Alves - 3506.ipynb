{
 "cells": [
  {
   "cell_type": "code",
   "execution_count": 2,
   "id": "769a8d9d",
   "metadata": {},
   "outputs": [],
   "source": [
    "import pandas as pd\n",
    "import numpy as np\n",
    "from scipy import stats\n",
    "path = \"../Atividades/Atividade 2\"\n"
   ]
  },
  {
   "cell_type": "markdown",
   "id": "8e77768d",
   "metadata": {},
   "source": [
    "<h1> 1. Faça um código para ler os arquivos altura_homens.csv e altura_mulheres.csv. Esses arquivos contém as alturas (em cm) de 1000 homens e 1000 mulheres, respectivamente. Em seguida, responda às seguintes perguntas:\n",
    "</h1>"
   ]
  },
  {
   "cell_type": "markdown",
   "id": "bb77ece2",
   "metadata": {},
   "source": [
    "<h2> Abrindo os arquivos .csv"
   ]
  },
  {
   "cell_type": "code",
   "execution_count": 3,
   "id": "70acacf0",
   "metadata": {},
   "outputs": [
    {
     "data": {
      "text/plain": [
       "0      185.24\n",
       "1      172.64\n",
       "2      161.96\n",
       "3      163.68\n",
       "4      156.02\n",
       "        ...  \n",
       "995    171.91\n",
       "996    181.22\n",
       "997    162.80\n",
       "998    174.02\n",
       "999    163.19\n",
       "Name: 0, Length: 1000, dtype: float64"
      ]
     },
     "metadata": {},
     "output_type": "display_data"
    }
   ],
   "source": [
    "dataMan = pd.read_csv(path+\"/altura_homens.csv\",index_col=False,header=None,squeeze=True)\n",
    "display(dataMan)"
   ]
  },
  {
   "cell_type": "code",
   "execution_count": 4,
   "id": "17735a45",
   "metadata": {
    "scrolled": true
   },
   "outputs": [
    {
     "data": {
      "text/plain": [
       "0      185.24\n",
       "1      172.64\n",
       "2      161.96\n",
       "3      163.68\n",
       "4      156.02\n",
       "        ...  \n",
       "995    171.91\n",
       "996    181.22\n",
       "997    162.80\n",
       "998    174.02\n",
       "999    163.19\n",
       "Name: 0, Length: 1000, dtype: float64"
      ]
     },
     "metadata": {},
     "output_type": "display_data"
    }
   ],
   "source": [
    "dataWoman =  pd.read_csv(path+\"/altura_mulheres.csv\",index_col=False,header=None,squeeze=True)\n",
    "display(dataMan)"
   ]
  },
  {
   "cell_type": "markdown",
   "id": "784e869a",
   "metadata": {},
   "source": [
    "<h2 a) Qual a altura mínima e máxima dos homens e das mulheres dessas\n",
    "amostras?"
   ]
  },
  {
   "cell_type": "markdown",
   "id": "cee43048",
   "metadata": {},
   "source": [
    "<h2> a) Qual a altura mínima e máxima dos homens e das mulheres dessas\n",
    "amostras?"
   ]
  },
  {
   "cell_type": "code",
   "execution_count": 5,
   "id": "cfeab433",
   "metadata": {},
   "outputs": [
    {
     "name": "stdout",
     "output_type": "stream",
     "text": [
      "Altura máxima masculina: 221.00\n",
      "Altura mínima masculina: 120.05\n",
      "\n",
      "\n",
      "Altura máxima feminina: 190.30\n",
      "Altura mínima feminina: 132.82\n"
     ]
    }
   ],
   "source": [
    "print(\"Altura máxima masculina: \"+format(dataMan.max(),\".2f\"))\n",
    "print(\"Altura mínima masculina: \"+format(dataMan.min(),\".2f\"))\n",
    "print(\"\\n\")\n",
    "print(\"Altura máxima feminina: \"+format(dataWoman.max(),\".2f\"))\n",
    "print(\"Altura mínima feminina: \"+format(dataWoman.min(),\".2f\"))"
   ]
  },
  {
   "cell_type": "markdown",
   "id": "d0305024",
   "metadata": {},
   "source": [
    "<h2> b) Qual a média de altura dos homens e das mulheres? E qual a mediana\n",
    "dessas alturas?"
   ]
  },
  {
   "cell_type": "code",
   "execution_count": 6,
   "id": "72f404b3",
   "metadata": {},
   "outputs": [
    {
     "name": "stdout",
     "output_type": "stream",
     "text": [
      "Média da altura masculina: 175.06\n",
      "Mediana da altura masculina 174.57\n",
      "\n",
      "\n",
      "Média da altura feminina: 160.12\n",
      "Mediana da altura feminina: 160.06\n"
     ]
    }
   ],
   "source": [
    "print(\"Média da altura masculina: \"+format(dataMan.mean(),\".2f\"))\n",
    "print(\"Mediana da altura masculina \"+format(dataMan.median(),\".2f\"))\n",
    "print(\"\\n\")\n",
    "print(\"Média da altura feminina: \"+format(dataWoman.mean(),\".2f\"))\n",
    "print(\"Mediana da altura feminina: \"+format(dataWoman.median(),\".2f\"))"
   ]
  },
  {
   "cell_type": "markdown",
   "id": "741e41da",
   "metadata": {},
   "source": [
    "<h2> c) Qual o desvio padrão da altura dos homens e das mulheres?"
   ]
  },
  {
   "cell_type": "code",
   "execution_count": 7,
   "id": "a99d58e6",
   "metadata": {},
   "outputs": [
    {
     "name": "stdout",
     "output_type": "stream",
     "text": [
      "Desvio padrão da altura masculina 15.33\n",
      "Desvio padrão da altura feminina: 9.70\n"
     ]
    }
   ],
   "source": [
    "print(\"Desvio padrão da altura masculina \"+format(dataMan.std(),\".2f\"))\n",
    "print(\"Desvio padrão da altura feminina: \"+format(dataWoman.std(),\".2f\"))\n"
   ]
  },
  {
   "cell_type": "markdown",
   "id": "929f88c1",
   "metadata": {},
   "source": [
    "<h2> d) Qual o percentual de homens com altura menor que 160cm?"
   ]
  },
  {
   "cell_type": "code",
   "execution_count": 8,
   "id": "5ebca63d",
   "metadata": {},
   "outputs": [
    {
     "name": "stdout",
     "output_type": "stream",
     "text": [
      "O percentual de homens com altura menor que 160: 15.60%\n"
     ]
    }
   ],
   "source": [
    "print(\"O percentual de homens com altura menor que 160: \"+format((dataMan[dataMan < 160].value_counts().sum() / dataMan.size)*100,\".2f\")+\"%\")\n",
    "# O percentil é dado por (Numero de elementos da condição / Numero máximo de elementos) * 100 -> Percentil daquela condição"
   ]
  },
  {
   "cell_type": "markdown",
   "id": "5eda8572",
   "metadata": {},
   "source": [
    "<h2> e) Qual o percentual de mulheres com altura maior que 180cm?"
   ]
  },
  {
   "cell_type": "code",
   "execution_count": 9,
   "id": "a62eaf80",
   "metadata": {},
   "outputs": [
    {
     "name": "stdout",
     "output_type": "stream",
     "text": [
      "O percentual de mulheres com altura maior que 180: 2.40%\n"
     ]
    }
   ],
   "source": [
    "print(\"O percentual de mulheres com altura maior que 180: \"+format((dataWoman[dataWoman > 180].value_counts().sum() / dataWoman.size)*100,\".2f\")+\"%\")\n"
   ]
  },
  {
   "cell_type": "markdown",
   "id": "f1f373b6",
   "metadata": {},
   "source": [
    "<h2> f) Um homem com altura 185cm está em qual percentil? (pesquise sobre a função percentileofscore do pacote scipy)"
   ]
  },
  {
   "cell_type": "code",
   "execution_count": 10,
   "id": "c02095bf",
   "metadata": {},
   "outputs": [
    {
     "name": "stdout",
     "output_type": "stream",
     "text": [
      "Um homem de altura 185cm está no percentil 73.90\n"
     ]
    }
   ],
   "source": [
    "#O uso da função nos permite a utilização de um parâmetro extra chamado 'kind', se olharmos este parâmetro, teriamos as seguintes opções:\n",
    "#print(\"Um homem de altura 185cm está no percentil \"+format(stats.percentileofscore(dataMan,185,kind='rank'),\".2f\")) = 73.90\n",
    "#print(\"Um homem de altura 185cm está no percentil \"+format(stats.percentileofscore(dataMan,185,kind='strict'),\".2f\")) = 73.90\n",
    "#print(\"Um homem de altura 185cm está no percentil \"+format(stats.percentileofscore(dataMan,185,kind='weak'),\".2f\")) = 73.90\n",
    "#print(\"Um homem de altura 185cm está no percentil \"+format(stats.percentileofscore(dataMan,185,kind='mean'),\".2f\")) = 73.90\n",
    "#Neste caso, todos acabarão dando o mesmo resultado, pelo seguinte fator:\n",
    "#dataMan[dataMan == 185].size => 0\n",
    "#Ou seja, não há repetição dos elementos, mas para este tipo de exercício, o mais correto seria o 'strict', pois o strict retorna...\n",
    "#o resultado baseado na primeira aparição, que no nosso caso, seria onde está este percentil\n",
    "print(\"Um homem de altura 185cm está no percentil \"+format(stats.percentileofscore(dataMan,185,kind='strict'),\".2f\"))\n"
   ]
  },
  {
   "cell_type": "markdown",
   "id": "292e80db",
   "metadata": {},
   "source": [
    "<h2> g) Uma mulher com altura 150cm está em qual percentil?"
   ]
  },
  {
   "cell_type": "code",
   "execution_count": 11,
   "id": "7fb433cc",
   "metadata": {},
   "outputs": [
    {
     "name": "stdout",
     "output_type": "stream",
     "text": [
      "Uma mulher com altura 150cm está no percentil 14.60\n"
     ]
    }
   ],
   "source": [
    "print(\"Uma mulher com altura 150cm está no percentil \"+format(stats.percentileofscore(dataWoman,150,kind='strict'),\".2f\"))\n"
   ]
  },
  {
   "cell_type": "markdown",
   "id": "943c1c55",
   "metadata": {},
   "source": [
    "<h2> h) Quais as três alturas de homens que são as mais frequentes? Quantos\n",
    "homens possuem essas alturas?"
   ]
  },
  {
   "cell_type": "code",
   "execution_count": 12,
   "id": "4b55ed50",
   "metadata": {
    "scrolled": true
   },
   "outputs": [
    {
     "name": "stdout",
     "output_type": "stream",
     "text": [
      "O valor mais frequente é 165.43 com 3 aparições\n",
      "O segundo valor mais frequente é 169.17 com 3 aparições\n",
      "O terceiro valor mais frequente é 169.97 com 3 aparições\n"
     ]
    }
   ],
   "source": [
    "maisFrequente, segundoFrequente, terceiroFrequente = dataMan.mode()[0:3]\n",
    "print(\"O valor mais frequente é \"+format(maisFrequente)+\" com \"+format(dataMan[dataMan==maisFrequente].size)+\" aparições\")\n",
    "print(\"O segundo valor mais frequente é \"+format(segundoFrequente)+\" com \"+format(dataMan[dataMan==segundoFrequente].size)+\" aparições\")\n",
    "print(\"O terceiro valor mais frequente é \"+format(terceiroFrequente)+\" com \"+format(dataMan[dataMan==terceiroFrequente].size)+\" aparições\")\n"
   ]
  },
  {
   "cell_type": "markdown",
   "id": "a8c5ba72",
   "metadata": {},
   "source": [
    "<h2> i) Quais as três alturas de mulheres que são as mais frequentes? Quantas mulheres possuem essas alturas?"
   ]
  },
  {
   "cell_type": "code",
   "execution_count": 13,
   "id": "e65f122b",
   "metadata": {},
   "outputs": [
    {
     "name": "stdout",
     "output_type": "stream",
     "text": [
      "O valor mais frequente é 149.26 com 3 aparições\n",
      "O segundo valor mais frequente é 152.57 com 3 aparições\n",
      "O terceiro valor mais frequente é 155.64 com 3 aparições\n"
     ]
    }
   ],
   "source": [
    "maisFrequente, segundoFrequente, terceiroFrequente = dataWoman.mode()[0:3]\n",
    "print(\"O valor mais frequente é \"+format(maisFrequente)+\" com \"+format(dataWoman[dataWoman==maisFrequente].size)+\" aparições\")\n",
    "print(\"O segundo valor mais frequente é \"+format(segundoFrequente)+\" com \"+format(dataWoman[dataWoman==segundoFrequente].size)+\" aparições\")\n",
    "print(\"O terceiro valor mais frequente é \"+format(terceiroFrequente)+\" com \"+format(dataWoman[dataWoman==terceiroFrequente].size)+\" aparições\")\n"
   ]
  },
  {
   "cell_type": "markdown",
   "id": "4c1e43e1",
   "metadata": {},
   "source": [
    "<h2> j) Um homem com altura 185cm está distante quantos desvios padrões da\n",
    "média dos homens?"
   ]
  },
  {
   "cell_type": "code",
   "execution_count": 14,
   "id": "f8cebb97",
   "metadata": {},
   "outputs": [],
   "source": [
    "#Antes de tudo, vamos definir uma função para fazer este cálculo, já que iremos efetuar este cálculomais vezes\n",
    "def desvioDistMedia(valor,serie): #Desvio Distância Média\n",
    "    media = serie.mean()\n",
    "    desvioPadr = serie.std()\n",
    "    result = abs((valor - media)//desvioPadr)\n",
    "    return (\"A média é \"+format(media,'.2f')+\" , o valor é \"+ format(valor,'.2f')+\" ,e o desvio padrão é \"+format(desvioPadr,'.2f')+\" ,e portanto, o valor está à \"+format(result)+\" desvios padrão da média\")"
   ]
  },
  {
   "cell_type": "code",
   "execution_count": 15,
   "id": "010ac259",
   "metadata": {},
   "outputs": [
    {
     "name": "stdout",
     "output_type": "stream",
     "text": [
      "A média é 175.06 , o valor é 185.00 ,e o desvio padrão é 15.33 ,e portanto, o valor está à 0.0 desvios padrão da média\n"
     ]
    }
   ],
   "source": [
    "print(desvioDistMedia(185,dataMan))"
   ]
  },
  {
   "cell_type": "markdown",
   "id": "d7d2bb0c",
   "metadata": {},
   "source": [
    "<h2> k) Um homem com altura 145cm está distante quantos desvios padrões da\n",
    "média dos homens?"
   ]
  },
  {
   "cell_type": "code",
   "execution_count": 16,
   "id": "afbaf188",
   "metadata": {},
   "outputs": [
    {
     "name": "stdout",
     "output_type": "stream",
     "text": [
      "A média é 175.06 , o valor é 145.00 ,e o desvio padrão é 15.33 ,e portanto, o valor está à 2.0 desvios padrão da média\n"
     ]
    }
   ],
   "source": [
    "print(desvioDistMedia(145,dataMan))"
   ]
  },
  {
   "cell_type": "markdown",
   "id": "12ee1616",
   "metadata": {},
   "source": [
    "<h2> l) Uma mulher com altura 185cm está distante quantos desvios padrões da\n",
    "média das mulheres?"
   ]
  },
  {
   "cell_type": "code",
   "execution_count": 17,
   "id": "824eddef",
   "metadata": {},
   "outputs": [
    {
     "name": "stdout",
     "output_type": "stream",
     "text": [
      "A média é 160.12 , o valor é 185.00 ,e o desvio padrão é 9.70 ,e portanto, o valor está à 2.0 desvios padrão da média\n"
     ]
    }
   ],
   "source": [
    "print(desvioDistMedia(185,dataWoman))"
   ]
  },
  {
   "cell_type": "markdown",
   "id": "940f2043",
   "metadata": {},
   "source": [
    "<h2> m) Uma mulher com altura 145cm está distante quantos desvios padrões da\n",
    "média das mulheres?"
   ]
  },
  {
   "cell_type": "code",
   "execution_count": 18,
   "id": "192cc5c3",
   "metadata": {},
   "outputs": [
    {
     "name": "stdout",
     "output_type": "stream",
     "text": [
      "A média é 160.12 , o valor é 145.00 ,e o desvio padrão é 9.70 ,e portanto, o valor está à 2.0 desvios padrão da média\n"
     ]
    }
   ],
   "source": [
    "print(desvioDistMedia(145,dataWoman))"
   ]
  },
  {
   "cell_type": "markdown",
   "id": "67ec9a8b",
   "metadata": {},
   "source": [
    "<h2> n) É possível afirmar com determinado grau de confiança que uma pessoa\n",
    "com altura 150cm é um homem ou uma mulher?"
   ]
  },
  {
   "cell_type": "code",
   "execution_count": 19,
   "id": "f43b1e43",
   "metadata": {},
   "outputs": [
    {
     "name": "stdout",
     "output_type": "stream",
     "text": [
      "Na faixa de 150cm, existem 28 mulher(es) e 5 homem(ns)\n",
      "Há uma chance de 84.85% de ser mulher, e uma chance de 15.15% de ser homem\n"
     ]
    }
   ],
   "source": [
    "#Vamos analizar algumas medidas primeiro:\n",
    "#Vamos verificar o número de aparições deste elemento entre os dados, pois se ele aparece muito,ele é mais provável \n",
    "#de acontecer, analizando a moda de cada um obtemos:\n",
    "numElementosMasc = dataMan[(dataMan > 150) & (dataMan < 151)].size \n",
    "numElementosFem = dataWoman[(dataWoman > 150) & (dataWoman < 151)].size \n",
    "print(\"Na faixa de 150cm, existem \"+format(numElementosFem)+\" mulher(es) e \"+format(numElementosMasc)+\" homem(ns)\")\n",
    "#Obtivemos o resultado de 28 mulheres e 5 homens, portanto, uma pessoa com altura 150cm tem a seguinte chance de ser de cada gênero\n",
    "chanceFem = numElementosFem / (numElementosFem+numElementosMasc) * 100\n",
    "chanceMasc = numElementosMasc / (numElementosFem+numElementosMasc) * 100\n",
    "\n",
    "print(\"Há uma chance de \"+format(chanceFem,\".2f\")+\"% de ser mulher, e uma chance de \"+ format(chanceMasc,\".2f\")+\"% de ser homem\")\n"
   ]
  },
  {
   "cell_type": "code",
   "execution_count": 20,
   "id": "63d81f95",
   "metadata": {},
   "outputs": [
    {
     "name": "stdout",
     "output_type": "stream",
     "text": [
      "Na faixa de 150.00cm, existem 28 mulheres e 5 homens \n",
      "Há uma chance de 84.85% de ser mulher, e uma chance de 15.15% de ser homem\n"
     ]
    }
   ],
   "source": [
    "#Aproveitando a linha de raciocínio, vamos transformar isto em uma função para utilizarmos nas próximas questões:\n",
    "def checaProbabilidadeAltura(altura): #Checa a probabilidade baseada em uma determinada altura\n",
    "    numElementosMasc = dataMan[(dataMan > altura) & (dataMan < altura+1)].size \n",
    "    numElementosFem = dataWoman[(dataWoman > altura) & (dataWoman < altura+1)].size\n",
    "    chanceFem = numElementosFem / (numElementosFem+numElementosMasc) * 100\n",
    "    chanceMasc = numElementosMasc / (numElementosFem+numElementosMasc) * 100\n",
    "    return(\"Na faixa de \"+format(altura,\".2f\")+\"cm, existem \"+format(numElementosFem)+\" mulheres e \"+format(numElementosMasc)+\" homens \\n\"+\n",
    "            \"Há uma chance de \"+format(chanceFem,\".2f\")+\"% de ser mulher, e uma chance de \"+ format(chanceMasc,\".2f\")+\n",
    "           \"% de ser homem\")\n",
    "print(checaProbabilidadeAltura(150))"
   ]
  },
  {
   "cell_type": "markdown",
   "id": "c010241a",
   "metadata": {},
   "source": [
    "<p> Uma outra maneira em que podemos obter a probabilidade, desta vez do valor absoluto é através da verificação da distância entra a média e o desvio padrão, se o valor for bem distante, quer dizer que é pouco provável deste valor pertencer a este conjunto. Se calcularmos a distância da média até o valor, e verificamos quantos desvios padrões possuem, e compararmos entre os dois conjuntos vemos qual conjunto é mais provável de se pertencer"
   ]
  },
  {
   "cell_type": "code",
   "execution_count": 21,
   "id": "edbd6b7f",
   "metadata": {},
   "outputs": [
    {
     "name": "stdout",
     "output_type": "stream",
     "text": [
      "Homens: A média é 175.06 , o valor é 150.00 ,e o desvio padrão é 15.33 ,e portanto, o valor está à 2.0 desvios padrão da média\n",
      "Mulheres: A média é 160.12 , o valor é 150.00 ,e o desvio padrão é 9.70 ,e portanto, o valor está à 2.0 desvios padrão da média\n"
     ]
    }
   ],
   "source": [
    "\n",
    "\n",
    "def checaProbabilidadeAlturaDesvio(altura):#Checa probabilidade da altura usando o desvio padrão\n",
    "    print(\"Homens: \"+desvioDistMedia(altura,dataMan))\n",
    "    print(\"Mulheres: \"+desvioDistMedia(altura,dataWoman))\n",
    "    \n",
    "checaProbabilidadeAlturaDesvio(150)\n"
   ]
  },
  {
   "cell_type": "markdown",
   "id": "f040b25d",
   "metadata": {},
   "source": [
    "<p>Como neste caso, a distância dos dois conjuntos está dando a mesma 2 e 2, os valores são igualmente prováveis."
   ]
  },
  {
   "cell_type": "markdown",
   "id": "d575bcf3",
   "metadata": {},
   "source": [
    "<h2> o) E uma pessoa com altura 190cm?"
   ]
  },
  {
   "cell_type": "code",
   "execution_count": 22,
   "id": "4d4d1f3d",
   "metadata": {},
   "outputs": [
    {
     "name": "stdout",
     "output_type": "stream",
     "text": [
      "Na faixa de 190.00cm, existem 1 mulheres e 15 homens \n",
      "Há uma chance de 6.25% de ser mulher, e uma chance de 93.75% de ser homem\n"
     ]
    }
   ],
   "source": [
    "print(checaProbabilidadeAltura(190))\n",
    "#Usando o cálculo com a margem de erro de até 1cm"
   ]
  },
  {
   "cell_type": "code",
   "execution_count": 23,
   "id": "83a38629",
   "metadata": {
    "scrolled": true
   },
   "outputs": [
    {
     "name": "stdout",
     "output_type": "stream",
     "text": [
      "Homens: A média é 175.06 , o valor é 190.00 ,e o desvio padrão é 15.33 ,e portanto, o valor está à 0.0 desvios padrão da média\n",
      "Mulheres: A média é 160.12 , o valor é 190.00 ,e o desvio padrão é 9.70 ,e portanto, o valor está à 3.0 desvios padrão da média\n"
     ]
    }
   ],
   "source": [
    "checaProbabilidadeAlturaDesvio(190)\n"
   ]
  },
  {
   "cell_type": "markdown",
   "id": "46859506",
   "metadata": {},
   "source": [
    "<p> Neste caso, entre os homens, o valore está dentro do desvio padrão, e bate com o valor acima, sendo mais provável que esta\n",
    "pessoa seja um homem"
   ]
  },
  {
   "cell_type": "markdown",
   "id": "e9bac969",
   "metadata": {},
   "source": [
    "<h2> p) E uma pessoa com altura 165cm?"
   ]
  },
  {
   "cell_type": "code",
   "execution_count": 24,
   "id": "f674ae35",
   "metadata": {},
   "outputs": [
    {
     "name": "stdout",
     "output_type": "stream",
     "text": [
      "Na faixa de 165.00cm, existem 29 mulheres e 19 homens \n",
      "Há uma chance de 60.42% de ser mulher, e uma chance de 39.58% de ser homem\n"
     ]
    }
   ],
   "source": [
    "print(checaProbabilidadeAltura(165))\n",
    "#Usando o cálculo com a margem de erro de até 1cm"
   ]
  },
  {
   "cell_type": "code",
   "execution_count": 25,
   "id": "fe389d4e",
   "metadata": {
    "scrolled": true
   },
   "outputs": [
    {
     "name": "stdout",
     "output_type": "stream",
     "text": [
      "Homens: A média é 175.06 , o valor é 165.00 ,e o desvio padrão é 15.33 ,e portanto, o valor está à 1.0 desvios padrão da média\n",
      "Mulheres: A média é 160.12 , o valor é 165.00 ,e o desvio padrão é 9.70 ,e portanto, o valor está à 0.0 desvios padrão da média\n"
     ]
    }
   ],
   "source": [
    "checaProbabilidadeAlturaDesvio(165)\n"
   ]
  },
  {
   "cell_type": "markdown",
   "id": "63424269",
   "metadata": {},
   "source": [
    "<P> Neste caso, entre as mulheres, o valore está dentro do desvio padrão, e bate com o valor acima, sendo mais provável que esta pessoa seja uma mulher"
   ]
  },
  {
   "cell_type": "markdown",
   "id": "2b6e3db9",
   "metadata": {},
   "source": [
    "<h2> q) As alturas dos homens e mulheres seguem uma distribuição Normal?"
   ]
  },
  {
   "cell_type": "markdown",
   "id": "0441dd38",
   "metadata": {},
   "source": [
    "<h3> Distribuição feminina"
   ]
  },
  {
   "cell_type": "code",
   "execution_count": 26,
   "id": "e5d379ef",
   "metadata": {},
   "outputs": [
    {
     "data": {
      "text/plain": [
       "[Text(0.5, 1.0, 'Frequência das alturas femininas'),\n",
       " Text(0, 0.5, 'Frequência'),\n",
       " Text(0.5, 0, 'Alturas')]"
      ]
     },
     "execution_count": 26,
     "metadata": {},
     "output_type": "execute_result"
    },
    {
     "data": {
      "image/png": "[encoded data removed]",
      "text/plain": [
       "<Figure size 432x288 with 1 Axes>"
      ]
     },
     "metadata": {
      "needs_background": "light"
     },
     "output_type": "display_data"
    }
   ],
   "source": [
    "import matplotlib.pyplot as plt\n",
    "# Vamos usar esta biblioteca para plotar os gráficos abaixo\n",
    "# Primeiro, vamos colocar as frequências de alturas femininas num gráfico\n",
    "plt.hist(dataWoman,color='r')\n",
    "plt.gca().set(title=\"Frequência das alturas femininas\",ylabel=\"Frequência\",xlabel=\"Alturas\")"
   ]
  },
  {
   "cell_type": "markdown",
   "id": "eed7cba6",
   "metadata": {},
   "source": [
    "<P>Aparenta ser bem próximo de um gráfico de distribuição normal, certo?\n",
    "    Agora vamos para o teste matemático:"
   ]
  },
  {
   "cell_type": "code",
   "execution_count": 27,
   "id": "82d31aaa",
   "metadata": {},
   "outputs": [
    {
     "name": "stdout",
     "output_type": "stream",
     "text": [
      "A porcentagem de valores entre 1 desvio padrão é de 67.90%\n",
      "A porcentagem de valores entre 2 desvios padrões é de 95.10%\n"
     ]
    }
   ],
   "source": [
    "#Para ser uma distribuição normal, aproximadamente 68% dos dados estão a um desvio padrão de distância da mediana, portanto\n",
    "desvioPadrao = dataWoman.std()\n",
    "mediana = dataWoman.quantile(.50)\n",
    "#Vamos verificar agora, quantos valores possuem entre 1 desvio padrão de distância\n",
    "valores = dataWoman[(dataWoman >= (mediana-desvioPadrao)) & (dataWoman <= (mediana+desvioPadrao))]\n",
    "porcentagem = (valores.size /dataWoman.size) *100\n",
    "print(\"A porcentagem de valores entre 1 desvio padrão é de \"+format(porcentagem,\".2f\")+\"%\")\n",
    "#agora calculando a distância de dois desvios padrões, temos que possuir 95% dos valores\n",
    "valores = dataWoman[(dataWoman >= (mediana-(desvioPadrao*2))) & (dataWoman <= (mediana+(desvioPadrao*2)))]\n",
    "porcentagem = (valores.size /dataWoman.size) *100\n",
    "print(\"A porcentagem de valores entre 2 desvios padrões é de \"+format(porcentagem,\".2f\")+\"%\")\n",
    "#Portanto, ambos os valores batem! Sendo assim, é uma distribuição normal"
   ]
  },
  {
   "cell_type": "markdown",
   "id": "a971053d",
   "metadata": {},
   "source": [
    "<h3> Distribuição masculina"
   ]
  },
  {
   "cell_type": "code",
   "execution_count": 28,
   "id": "9ec1a141",
   "metadata": {},
   "outputs": [
    {
     "data": {
      "text/plain": [
       "[Text(0.5, 1.0, 'Frequência das alturas masculinas'),\n",
       " Text(0, 0.5, 'Frequência'),\n",
       " Text(0.5, 0, 'Alturas')]"
      ]
     },
     "execution_count": 28,
     "metadata": {},
     "output_type": "execute_result"
    },
    {
     "data": {
      "image/png": "[encoded data removed]",
      "text/plain": [
       "<Figure size 432x288 with 1 Axes>"
      ]
     },
     "metadata": {
      "needs_background": "light"
     },
     "output_type": "display_data"
    }
   ],
   "source": [
    "#Vamos repetir o processo descrito acima\n",
    "plt.hist(dataMan,color='b')\n",
    "plt.gca().set(title=\"Frequência das alturas masculinas\",ylabel=\"Frequência\",xlabel=\"Alturas\")"
   ]
  },
  {
   "cell_type": "code",
   "execution_count": 29,
   "id": "d7935b90",
   "metadata": {},
   "outputs": [
    {
     "name": "stdout",
     "output_type": "stream",
     "text": [
      "A porcentagem de valores entre 1 desvio padrão é de 69.90%\n",
      "A porcentagem de valores entre 2 desvios padrões é de 95.20%\n"
     ]
    }
   ],
   "source": [
    "desvioPadrao = dataMan.std()\n",
    "mediana = dataMan.quantile(.50)\n",
    "valores = dataMan[(dataMan >= (mediana-desvioPadrao)) & (dataMan <= (mediana+desvioPadrao))]\n",
    "porcentagem = (valores.size /dataMan.size) *100\n",
    "print(\"A porcentagem de valores entre 1 desvio padrão é de \"+format(porcentagem,\".2f\")+\"%\")\n",
    "valores = dataMan[(dataMan >= (mediana-(desvioPadrao*2))) & (dataMan <= (mediana+(desvioPadrao*2)))]\n",
    "porcentagem = (valores.size /dataMan.size) *100\n",
    "print(\"A porcentagem de valores entre 2 desvios padrões é de \"+format(porcentagem,\".2f\")+\"%\")\n",
    "#A distribuição bate bem próxima de uma distribuição normal"
   ]
  },
  {
   "cell_type": "markdown",
   "id": "259746fd",
   "metadata": {},
   "source": [
    "<h1> 2. Para que serve a função “describe()” de uma Series?"
   ]
  },
  {
   "cell_type": "markdown",
   "id": "253a59de",
   "metadata": {},
   "source": [
    "<p>Segunda a própria documentação do Pandas, a função describe retorna os principais valores da estatística descritivas,\n",
    "que resumem a tendência central, a dispersão e a forma da distribuição de um conjunto de dados, excluindo valores que não são números"
   ]
  },
  {
   "cell_type": "code",
   "execution_count": 39,
   "id": "9fb77638",
   "metadata": {},
   "outputs": [
    {
     "data": {
      "text/plain": [
       "count    1000.000000\n",
       "mean      175.058900\n",
       "std        15.325255\n",
       "min       120.050000\n",
       "25%       164.800000\n",
       "50%       174.575000\n",
       "75%       185.590000\n",
       "max       221.000000\n",
       "Name: 0, dtype: float64"
      ]
     },
     "execution_count": 39,
     "metadata": {},
     "output_type": "execute_result"
    }
   ],
   "source": [
    "dataMan.describe()"
   ]
  },
  {
   "cell_type": "code",
   "execution_count": 31,
   "id": "2478c4de",
   "metadata": {},
   "outputs": [
    {
     "data": {
      "text/plain": [
       "count    1000.000000\n",
       "mean      160.116710\n",
       "std         9.702241\n",
       "min       132.820000\n",
       "25%       153.597500\n",
       "50%       160.055000\n",
       "75%       166.852500\n",
       "max       190.300000\n",
       "Name: 0, dtype: float64"
      ]
     },
     "execution_count": 31,
     "metadata": {},
     "output_type": "execute_result"
    }
   ],
   "source": [
    "dataWoman.describe()"
   ]
  },
  {
   "cell_type": "markdown",
   "id": "7efb0b85",
   "metadata": {},
   "source": [
    "<h1> 3. Para que serve a função “unique()” de uma Series?"
   ]
  },
  {
   "cell_type": "markdown",
   "id": "785b58ea",
   "metadata": {},
   "source": [
    "<p> Segundo a documentação do Pandas, a função 'unique()' retorna os valores na ordem de sua aparição, ao contrário de retornar os valores já ordenados\n",
    " "
   ]
  },
  {
   "cell_type": "code",
   "execution_count": 32,
   "id": "d350c63f",
   "metadata": {},
   "outputs": [
    {
     "data": {
      "text/plain": [
       "array([185.24, 172.64, 161.96, 163.68, 156.02, 191.98, 189.86, 199.45,\n",
       "       187.44, 167.37, 176.55, 167.59, 179.1 , 185.89, 169.33, 168.87,\n",
       "       164.33, 170.82, 159.55, 172.67, 180.7 , 198.36, 177.06, 183.35,\n",
       "       170.87, 159.79, 175.42, 181.83, 159.43, 183.77, 161.69, 178.27,\n",
       "       202.19, 184.51, 185.49, 175.84, 145.36, 164.84, 199.64, 170.22,\n",
       "       161.64, 164.21, 152.95, 163.62, 195.44, 177.25, 185.19, 168.11,\n",
       "       175.19, 177.4 , 151.27, 182.41, 173.64, 170.78, 170.23, 218.04,\n",
       "       207.77, 160.48, 187.69, 138.37, 173.34, 146.57, 204.05, 164.88,\n",
       "       150.17, 162.98, 193.3 , 176.73, 187.12, 174.25, 174.32, 188.89,\n",
       "       181.91, 175.11, 164.74, 165.2 , 172.48, 177.58, 186.12, 144.12,\n",
       "       185.79, 195.56, 158.8 , 204.1 , 158.68, 165.43, 189.61, 199.22,\n",
       "       164.13, 179.05, 203.05, 194.39, 166.78, 170.66, 185.44, 178.62,\n",
       "       164.96, 170.41, 166.94, 196.69, 184.85, 201.62, 165.87, 162.82,\n",
       "       174.08, 159.2 , 167.55, 170.11, 199.6 , 156.9 , 196.27, 175.08,\n",
       "       191.08, 188.66, 170.9 , 174.85, 174.54, 155.07, 188.69, 199.35,\n",
       "       162.23, 188.92, 146.12, 175.44, 171.48, 165.56, 188.31, 179.67,\n",
       "       162.36, 180.23, 171.62, 163.28, 151.24, 167.75, 169.17, 177.82,\n",
       "       169.97, 180.49, 150.72, 177.61, 164.  , 173.38, 190.1 , 212.21,\n",
       "       181.37, 168.81, 190.82, 187.27, 166.1 , 196.48, 182.33, 190.76,\n",
       "       167.23, 167.22, 174.58, 189.96, 193.45, 163.26, 180.45, 198.76,\n",
       "       141.35, 166.9 , 181.54, 188.1 , 182.03, 182.91, 152.54, 189.64,\n",
       "       147.06, 183.53, 196.54, 167.79, 184.57, 172.05, 189.52, 199.  ,\n",
       "       194.19, 164.05, 177.44, 146.22, 175.22, 190.41, 176.77, 195.13,\n",
       "       171.67, 158.11, 153.62, 210.52, 192.62, 165.54, 151.57, 167.96,\n",
       "       184.34, 163.35, 160.34, 169.93, 204.35, 161.43, 140.85, 203.31,\n",
       "       189.38, 192.57, 211.07, 197.51, 192.26, 170.85, 166.71, 158.27,\n",
       "       172.99, 181.71, 185.13, 162.34, 186.2 , 179.58, 188.53, 156.51,\n",
       "       171.56, 173.96, 163.46, 189.31, 188.79, 158.66, 183.4 , 217.06,\n",
       "       164.54, 175.47, 172.96, 172.7 , 174.59, 170.59, 164.8 , 213.96,\n",
       "       174.07, 163.67, 165.25, 192.55, 171.61, 161.47, 155.08, 139.26,\n",
       "       169.85, 165.09, 207.43, 186.34, 155.84, 156.05, 184.23, 185.16,\n",
       "       155.8 , 150.98, 193.28, 169.43, 176.14, 174.02, 211.35, 171.06,\n",
       "       139.21, 163.42, 166.22, 187.61, 180.57, 189.51, 182.43, 152.17,\n",
       "       184.61, 179.87, 138.61, 196.49, 189.97, 169.16, 188.08, 167.95,\n",
       "       150.32, 161.32, 202.12, 159.01, 206.33, 176.37, 172.72, 188.57,\n",
       "       153.26, 188.26, 217.74, 178.15, 169.12, 177.01, 200.23, 181.11,\n",
       "       183.22, 172.3 , 171.9 , 162.5 , 177.07, 189.75, 165.02, 183.78,\n",
       "       179.28, 157.39, 133.85, 174.68, 165.04, 143.67, 176.79, 175.6 ,\n",
       "       174.06, 144.5 , 177.56, 170.04, 164.47, 176.57, 198.56, 180.75,\n",
       "       160.96, 181.31, 173.76, 183.99, 196.13, 199.63, 186.  , 216.63,\n",
       "       160.56, 144.27, 170.84, 146.61, 195.3 , 184.64, 163.2 , 176.86,\n",
       "       181.84, 185.59, 154.75, 161.38, 178.69, 172.62, 168.04, 183.62,\n",
       "       181.07, 166.09, 165.77, 173.8 , 174.38, 181.12, 161.6 , 171.07,\n",
       "       174.78, 166.53, 183.98, 174.97, 167.36, 173.91, 184.46, 194.24,\n",
       "       194.89, 173.98, 194.72, 167.45, 201.35, 189.78, 176.33, 208.68,\n",
       "       156.34, 182.55, 167.48, 183.73, 161.76, 190.78, 187.71, 153.3 ,\n",
       "       161.11, 184.19, 188.22, 179.92, 142.94, 173.72, 155.04, 190.16,\n",
       "       182.83, 183.9 , 204.79, 171.29, 162.99, 178.  , 198.32, 189.11,\n",
       "       179.47, 168.98, 193.7 , 178.6 , 202.5 , 172.08, 188.84, 148.95,\n",
       "       173.83, 193.1 , 203.54, 155.27, 162.06, 181.88, 165.51, 159.29,\n",
       "       162.01, 188.62, 156.84, 183.48, 199.86, 153.21, 167.94, 172.94,\n",
       "       176.75, 186.29, 179.53, 152.97, 183.76, 173.69, 160.84, 177.75,\n",
       "       201.27, 186.36, 174.44, 173.21, 182.26, 174.57, 187.72, 177.13,\n",
       "       162.79, 164.09, 188.63, 171.31, 153.51, 180.83, 196.21, 161.56,\n",
       "       189.88, 166.72, 165.55, 163.49, 170.58, 171.57, 180.26, 205.67,\n",
       "       183.01, 182.14, 190.13, 183.86, 170.92, 198.04, 174.98, 165.37,\n",
       "       166.86, 167.43, 184.86, 170.98, 178.54, 182.53, 187.82, 174.72,\n",
       "       195.6 , 200.07, 183.71, 162.85, 171.3 , 201.03, 173.27, 154.16,\n",
       "       174.41, 195.62, 207.6 , 171.41, 184.8 , 154.94, 120.05, 175.48,\n",
       "       175.93, 179.22, 172.18, 156.86, 185.57, 149.55, 154.52, 196.57,\n",
       "       181.97, 154.26, 179.57, 174.77, 168.92, 158.35, 170.93, 189.15,\n",
       "       193.93, 178.25, 185.72, 166.15, 172.8 , 174.14, 174.17, 193.66,\n",
       "       198.62, 164.34, 177.74, 161.23, 169.21, 149.09, 171.27, 183.46,\n",
       "       192.51, 163.04, 188.35, 164.79, 183.15, 157.62, 175.54, 152.4 ,\n",
       "       149.96, 190.45, 180.47, 189.39, 164.4 , 179.91, 191.  , 205.43,\n",
       "       169.09, 186.99, 172.16, 177.63, 181.68, 210.64, 169.44, 205.54,\n",
       "       174.86, 200.66, 175.37, 142.62, 172.86, 173.4 , 147.31, 162.64,\n",
       "       161.82, 174.43, 193.36, 174.6 , 200.25, 194.3 , 176.85, 181.29,\n",
       "       173.89, 159.56, 168.97, 191.22, 188.64, 186.76, 163.34, 172.76,\n",
       "       201.38, 191.56, 192.33, 170.28, 183.27, 185.86, 170.24, 180.86,\n",
       "       180.32, 176.13, 143.9 , 176.44, 140.12, 140.33, 198.12, 168.08,\n",
       "       170.75, 191.12, 187.39, 168.63, 202.05, 155.44, 163.52, 144.66,\n",
       "       184.03, 180.34, 201.65, 179.72, 151.75, 177.15, 151.49, 152.07,\n",
       "       167.15, 171.28, 154.82, 177.21, 182.52, 167.88, 199.88, 163.41,\n",
       "       166.2 , 157.36, 187.13, 168.89, 178.96, 171.86, 154.64, 151.45,\n",
       "       189.2 , 160.74, 187.67, 200.55, 174.45, 160.37, 175.26, 176.11,\n",
       "       177.54, 175.36, 172.23, 178.8 , 188.97, 155.05, 159.75, 179.34,\n",
       "       193.38, 173.53, 185.74, 144.78, 196.41, 157.98, 163.43, 172.9 ,\n",
       "       177.91, 177.11, 152.5 , 150.6 , 167.04, 170.94, 165.1 , 183.63,\n",
       "       180.4 , 164.95, 147.99, 198.45, 186.07, 204.28, 175.73, 189.44,\n",
       "       187.45, 176.69, 164.58, 164.06, 138.62, 184.67, 178.43, 170.29,\n",
       "       195.11, 202.26, 146.84, 196.73, 151.92, 198.11, 159.15, 159.95,\n",
       "       170.71, 177.1 , 209.19, 176.41, 189.71, 153.34, 139.88, 180.14,\n",
       "       183.89, 161.29, 159.18, 192.59, 158.98, 156.64, 184.82, 160.66,\n",
       "       169.99, 163.17, 161.45, 147.5 , 173.55, 168.18, 156.71, 194.17,\n",
       "       175.31, 183.56, 185.03, 182.48, 180.01, 135.76, 187.4 , 173.95,\n",
       "       158.9 , 206.3 , 179.89, 167.49, 174.92, 171.78, 174.13, 185.64,\n",
       "       178.09, 160.42, 169.32, 166.21, 166.69, 191.67, 181.28, 171.72,\n",
       "       211.05, 185.97, 169.68, 174.95, 186.93, 168.12, 162.37, 188.88,\n",
       "       191.01, 175.68, 167.66, 159.82, 181.3 , 158.39, 160.44, 183.17,\n",
       "       174.88, 165.69, 187.22, 179.96, 184.72, 192.27, 172.12, 175.14,\n",
       "       183.37, 173.16, 172.47, 148.86, 135.45, 161.74, 188.61, 155.63,\n",
       "       184.52, 131.99, 139.01, 183.02, 165.53, 221.  , 173.56, 174.29,\n",
       "       154.22, 187.94, 162.54, 180.46, 146.69, 156.11, 177.39, 172.79,\n",
       "       191.7 , 178.86, 192.61, 175.58, 189.22, 153.66, 147.51, 163.19,\n",
       "       171.53, 193.08, 190.39, 181.73, 158.06, 172.28, 185.82, 197.45,\n",
       "       173.99, 176.26, 155.92, 170.08, 170.8 , 152.73, 174.34, 171.01,\n",
       "       178.12, 182.22, 180.87, 196.37, 156.45, 169.06, 169.83, 188.5 ,\n",
       "       166.25, 194.94, 142.58, 173.74, 166.16, 153.16, 180.19, 170.76,\n",
       "       155.68, 178.24, 171.99, 174.73, 189.32, 179.32, 175.78, 159.93,\n",
       "       169.73, 211.16, 209.13, 171.2 , 171.35, 180.73, 180.56, 196.98,\n",
       "       203.48, 143.6 , 192.83, 172.09, 177.71, 190.93, 153.37, 151.13,\n",
       "       161.02, 193.59, 169.07, 191.64, 170.95, 175.71, 163.14, 145.13,\n",
       "       145.94, 153.93, 188.06, 203.78, 161.99, 159.63, 175.65, 186.82,\n",
       "       180.98, 167.7 , 187.74, 195.63, 191.75, 178.38, 195.77, 198.75,\n",
       "       152.15, 179.66, 149.86, 140.36, 173.58, 180.43, 181.16, 121.84,\n",
       "       168.64, 173.22, 156.6 , 188.56, 183.45, 194.51, 159.77, 154.25,\n",
       "       157.09, 169.55, 156.44, 175.06, 197.91, 152.25, 192.14, 184.55,\n",
       "       162.07, 187.31, 177.52, 161.75, 165.17, 184.49, 177.62, 167.03,\n",
       "       182.64, 156.79, 170.97, 176.74, 170.35, 182.88, 155.94, 190.74,\n",
       "       190.31, 176.98, 181.95, 188.59, 188.72, 159.36, 185.27, 181.49,\n",
       "       147.23, 173.1 , 164.75, 173.36, 154.06, 164.48, 190.22, 190.19,\n",
       "       203.4 , 170.51, 171.65, 164.83, 181.92, 163.39, 155.32, 162.47,\n",
       "       177.79, 186.31, 178.75, 171.91, 181.22, 162.8 ])"
      ]
     },
     "execution_count": 32,
     "metadata": {},
     "output_type": "execute_result"
    }
   ],
   "source": [
    "dataMan.unique()"
   ]
  },
  {
   "cell_type": "code",
   "execution_count": 33,
   "id": "7a0fdbe7",
   "metadata": {},
   "outputs": [
    {
     "data": {
      "text/plain": [
       "array([162.14, 146.68, 159.95, 171.98, 139.35, 172.51, 149.99, 162.18,\n",
       "       152.11, 155.23, 142.68, 165.14, 151.88, 152.9 , 172.92, 170.06,\n",
       "       159.08, 159.98, 161.55, 175.87, 153.06, 154.21, 183.84, 154.55,\n",
       "       175.36, 138.49, 159.99, 161.23, 160.75, 163.27, 173.38, 176.79,\n",
       "       176.96, 154.18, 174.69, 158.36, 168.93, 167.8 , 163.24, 161.97,\n",
       "       168.31, 158.55, 162.1 , 145.09, 176.31, 149.39, 179.12, 154.49,\n",
       "       165.85, 172.54, 166.15, 156.99, 172.16, 145.52, 149.96, 151.67,\n",
       "       174.51, 177.22, 172.58, 159.12, 173.84, 161.57, 151.21, 169.58,\n",
       "       180.12, 170.69, 190.3 , 167.12, 147.88, 160.81, 169.14, 166.  ,\n",
       "       171.57, 158.95, 166.2 , 167.21, 153.66, 153.69, 156.86, 167.44,\n",
       "       185.2 , 166.87, 156.77, 164.68, 157.61, 155.7 , 142.18, 149.26,\n",
       "       157.58, 155.08, 169.85, 150.13, 167.83, 154.24, 161.2 , 132.82,\n",
       "       151.02, 173.73, 174.88, 166.3 , 139.96, 143.51, 149.88, 161.78,\n",
       "       166.06, 136.09, 144.78, 169.26, 170.22, 160.02, 154.01, 145.84,\n",
       "       162.65, 176.8 , 171.82, 146.67, 161.37, 152.57, 159.29, 143.85,\n",
       "       154.12, 159.53, 149.58, 153.22, 175.63, 150.94, 154.72, 150.42,\n",
       "       176.81, 155.87, 163.36, 166.82, 154.34, 161.09, 142.15, 166.26,\n",
       "       158.94, 153.59, 147.84, 161.38, 152.73, 160.12, 161.17, 160.26,\n",
       "       170.94, 155.9 , 168.26, 153.32, 153.9 , 162.68, 146.45, 159.66,\n",
       "       156.44, 173.64, 138.95, 169.79, 155.64, 165.07, 155.05, 168.78,\n",
       "       149.83, 155.73, 154.9 , 157.13, 149.04, 157.12, 170.46, 161.48,\n",
       "       160.83, 159.28, 160.01, 158.34, 140.49, 142.7 , 144.37, 166.66,\n",
       "       148.57, 151.82, 152.38, 171.67, 160.91, 165.79, 170.2 , 161.82,\n",
       "       151.48, 161.33, 167.89, 160.44, 161.08, 165.97, 157.24, 146.69,\n",
       "       155.09, 156.33, 167.77, 167.49, 158.28, 162.92, 150.08, 165.94,\n",
       "       164.17, 167.13, 165.65, 155.45, 143.83, 158.06, 161.02, 164.01,\n",
       "       159.55, 161.56, 169.95, 165.06, 168.04, 173.66, 159.23, 145.63,\n",
       "       172.75, 151.68, 174.31, 154.71, 163.79, 161.71, 165.7 , 156.05,\n",
       "       167.97, 171.42, 144.41, 157.05, 141.2 , 150.77, 164.02, 166.85,\n",
       "       158.56, 166.28, 161.22, 168.29, 152.64, 161.39, 142.23, 176.21,\n",
       "       162.98, 160.53, 161.18, 147.1 , 164.23, 141.32, 151.51, 149.5 ,\n",
       "       172.33, 167.79, 160.14, 146.8 , 163.8 , 175.95, 166.9 , 169.83,\n",
       "       153.  , 171.86, 163.35, 151.86, 179.61, 157.54, 150.87, 161.28,\n",
       "       185.93, 152.03, 141.34, 164.83, 153.88, 163.05, 177.34, 171.81,\n",
       "       175.  , 159.81, 170.51, 166.61, 178.41, 165.12, 165.33, 155.88,\n",
       "       170.37, 161.52, 165.93, 151.85, 168.63, 169.91, 154.8 , 168.85,\n",
       "       163.56, 160.59, 151.71, 170.57, 139.3 , 158.48, 169.05, 158.73,\n",
       "       151.58, 159.48, 155.34, 143.07, 155.86, 185.52, 171.4 , 162.29,\n",
       "       154.92, 166.13, 175.39, 149.77, 154.28, 149.84, 172.29, 154.85,\n",
       "       151.12, 166.86, 170.36, 170.55, 151.27, 151.19, 182.85, 162.6 ,\n",
       "       157.8 , 163.65, 174.38, 146.58, 145.32, 162.32, 180.71, 156.9 ,\n",
       "       174.73, 151.24, 156.65, 156.71, 169.76, 165.  , 174.02, 155.78,\n",
       "       158.07, 149.9 , 155.66, 167.  , 147.27, 163.83, 162.46, 176.17,\n",
       "       172.17, 164.74, 169.09, 150.79, 158.2 , 160.06, 174.22, 170.04,\n",
       "       152.17, 178.35, 166.01, 160.43, 163.77, 152.96, 167.81, 149.95,\n",
       "       144.72, 164.85, 154.42, 155.03, 151.49, 142.59, 162.5 , 164.57,\n",
       "       169.5 , 182.67, 164.92, 163.82, 158.44, 179.48, 168.06, 160.29,\n",
       "       150.58, 154.33, 153.48, 159.3 , 170.47, 153.43, 171.59, 154.03,\n",
       "       151.69, 150.02, 146.16, 140.16, 144.25, 159.38, 164.89, 134.3 ,\n",
       "       159.96, 145.67, 147.38, 144.51, 151.56, 148.38, 172.25, 157.33,\n",
       "       140.4 , 175.53, 139.6 , 146.15, 168.43, 166.65, 150.54, 156.56,\n",
       "       163.61, 156.38, 151.32, 154.11, 166.33, 153.73, 158.12, 152.79,\n",
       "       174.3 , 143.79, 154.48, 161.61, 153.55, 146.81, 153.01, 157.02,\n",
       "       151.55, 148.87, 169.56, 170.89, 156.2 , 154.79, 156.81, 171.93,\n",
       "       175.47, 157.81, 160.78, 174.76, 157.74, 154.6 , 158.92, 135.2 ,\n",
       "       157.04, 152.39, 173.7 , 166.54, 169.4 , 164.42, 169.38, 158.93,\n",
       "       160.5 , 156.95, 150.59, 159.06, 166.69, 156.37, 167.56, 150.98,\n",
       "       164.12, 170.17, 167.76, 168.05, 164.03, 172.86, 161.98, 158.18,\n",
       "       154.89, 173.52, 156.13, 164.67, 163.39, 158.51, 148.88, 144.02,\n",
       "       148.64, 152.  , 164.37, 166.39, 153.6 , 157.62, 156.69, 170.52,\n",
       "       162.4 , 151.13, 153.96, 155.79, 182.3 , 155.48, 159.31, 153.65,\n",
       "       158.1 , 160.45, 156.06, 154.4 , 162.83, 145.93, 163.97, 156.55,\n",
       "       162.2 , 163.58, 163.45, 150.67, 178.55, 162.02, 176.35, 157.95,\n",
       "       161.49, 169.99, 156.94, 155.61, 150.52, 164.13, 150.74, 159.67,\n",
       "       181.8 , 167.74, 146.39, 149.48, 155.12, 170.31, 152.51, 167.45,\n",
       "       163.95, 159.88, 147.21, 153.71, 155.57, 140.95, 153.72, 167.09,\n",
       "       153.24, 152.5 , 156.45, 179.67, 147.02, 164.51, 167.26, 144.44,\n",
       "       154.81, 164.15, 147.61, 160.15, 154.86, 156.25, 165.45, 168.33,\n",
       "       151.42, 170.07, 163.49, 141.29, 175.31, 158.41, 154.91, 158.71,\n",
       "       158.33, 162.13, 174.91, 177.29, 178.42, 157.94, 167.94, 163.21,\n",
       "       152.27, 165.4 , 159.42, 162.37, 173.48, 172.71, 146.08, 142.4 ,\n",
       "       147.28, 135.3 , 167.18, 168.58, 170.92, 159.16, 180.14, 156.19,\n",
       "       166.27, 159.18, 171.6 , 160.05, 165.03, 155.99, 170.48, 157.23,\n",
       "       169.82, 155.07, 172.66, 155.  , 161.12, 152.91, 162.9 , 146.33,\n",
       "       157.16, 155.29, 146.41, 159.32, 161.54, 138.52, 157.09, 181.65,\n",
       "       167.3 , 165.83, 156.93, 166.94, 174.23, 173.44, 162.66, 171.18,\n",
       "       160.94, 149.46, 152.78, 156.68, 170.27, 154.05, 158.09, 170.85,\n",
       "       150.24, 178.57, 177.49, 152.15, 145.21, 165.15, 161.86, 159.27,\n",
       "       160.67, 164.47, 171.83, 159.41, 162.19, 148.23, 162.73, 132.96,\n",
       "       157.96, 159.86, 172.14, 164.61, 145.62, 166.43, 158.74, 150.37,\n",
       "       149.93, 168.89, 155.41, 150.23, 156.78, 147.57, 173.58, 177.92,\n",
       "       156.92, 142.58, 179.8 , 137.59, 152.8 , 167.19, 161.11, 162.44,\n",
       "       153.78, 167.01, 189.46, 167.62, 153.74, 149.73, 163.1 , 157.03,\n",
       "       183.85, 174.1 , 167.67, 164.6 , 162.75, 160.33, 154.7 , 149.55,\n",
       "       149.2 , 169.21, 146.63, 154.09, 164.29, 166.08, 158.85, 160.22,\n",
       "       173.41, 162.96, 150.45, 167.5 , 150.19, 151.93, 172.52, 153.03,\n",
       "       157.51, 149.47, 144.61, 156.83, 146.14, 150.69, 142.75, 169.  ,\n",
       "       156.08, 163.15, 140.23, 163.17, 163.08, 161.76, 181.3 , 162.48,\n",
       "       167.16, 152.04, 155.85, 148.56, 159.35, 155.1 , 146.87, 162.94,\n",
       "       145.65, 174.45, 181.73, 165.43, 180.69, 155.24, 168.01, 169.72,\n",
       "       164.7 , 146.53, 152.37, 149.7 , 166.22, 167.87, 183.33, 147.39,\n",
       "       157.77, 141.06, 172.05, 161.77, 150.57, 169.77, 154.23, 167.48,\n",
       "       143.72, 168.64, 146.49, 162.82, 181.56, 158.91, 179.43, 149.97,\n",
       "       160.52, 144.03, 141.85, 145.38, 156.  , 171.51, 156.75, 153.62,\n",
       "       183.  , 148.  , 168.96, 164.65, 160.84, 159.11, 154.52, 153.09,\n",
       "       168.97, 155.27, 165.48, 150.01, 154.73, 151.4 , 179.93, 144.08,\n",
       "       163.41, 160.7 , 144.18, 160.35, 143.96, 173.14, 162.51, 155.21,\n",
       "       155.38, 168.81, 159.74, 150.14, 168.92, 167.7 , 147.78, 147.89,\n",
       "       167.05, 163.04, 163.85, 137.33, 160.68, 148.75, 166.05, 160.79,\n",
       "       164.76, 169.29, 157.49, 146.01, 165.28, 156.29, 169.12, 167.53,\n",
       "       150.36, 163.31, 152.48, 145.73, 166.72, 152.41, 173.45, 147.3 ,\n",
       "       160.95, 152.92, 164.73, 153.3 , 162.97, 160.51, 165.24, 183.7 ,\n",
       "       165.8 , 155.92, 153.97, 170.91, 143.37, 145.02, 147.93, 159.5 ,\n",
       "       159.22, 152.53, 161.58, 165.16, 162.15, 174.14, 172.55, 161.9 ,\n",
       "       158.46, 166.35, 163.28, 180.43, 165.32, 160.21, 155.49, 154.93,\n",
       "       159.56, 141.6 , 157.79, 154.15, 154.58, 167.1 , 152.98, 164.46,\n",
       "       164.71, 164.99, 164.8 , 172.77, 163.51, 170.99, 182.25, 174.99,\n",
       "       156.09, 143.81, 158.79, 157.44, 164.82, 159.97, 164.26, 159.69,\n",
       "       174.66, 161.83, 161.63, 167.84, 149.25])"
      ]
     },
     "execution_count": 33,
     "metadata": {},
     "output_type": "execute_result"
    }
   ],
   "source": [
    "dataWoman.unique()"
   ]
  },
  {
   "cell_type": "code",
   "execution_count": null,
   "id": "79f97518",
   "metadata": {},
   "outputs": [],
   "source": []
  }
 ],
 "metadata": {
  "kernelspec": {
   "display_name": "geo_env",
   "language": "python",
   "name": "geo_env"
  },
  "language_info": {
   "codemirror_mode": {
    "name": "ipython",
    "version": 3
   },
   "file_extension": ".py",
   "mimetype": "text/x-python",
   "name": "python",
   "nbconvert_exporter": "python",
   "pygments_lexer": "ipython3",
   "version": "3.9.6"
  }
 },
 "nbformat": 4,
 "nbformat_minor": 5
}

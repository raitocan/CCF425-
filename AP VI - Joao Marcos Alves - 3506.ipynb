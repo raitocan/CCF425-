{
 "cells": [
  {
   "cell_type": "markdown",
   "id": "7ddb8e07",
   "metadata": {},
   "source": [
    "<h2> Importanto as bibliotecas e lendos os dados"
   ]
  },
  {
   "cell_type": "code",
   "execution_count": 4,
   "id": "2973e4d5",
   "metadata": {},
   "outputs": [],
   "source": [
    "import pandas as pd\n",
    "import numpy as np\n",
    "import matplotlib.pyplot as plt"
   ]
  },
  {
   "cell_type": "code",
   "execution_count": 5,
   "id": "5c2ef175",
   "metadata": {},
   "outputs": [
    {
     "data": {
      "text/html": [
       "<div>\n",
       "<style scoped>\n",
       "    .dataframe tbody tr th:only-of-type {\n",
       "        vertical-align: middle;\n",
       "    }\n",
       "\n",
       "    .dataframe tbody tr th {\n",
       "        vertical-align: top;\n",
       "    }\n",
       "\n",
       "    .dataframe thead th {\n",
       "        text-align: right;\n",
       "    }\n",
       "</style>\n",
       "<table border=\"1\" class=\"dataframe\">\n",
       "  <thead>\n",
       "    <tr style=\"text-align: right;\">\n",
       "      <th></th>\n",
       "      <th>InvoiceNo</th>\n",
       "      <th>StockCode</th>\n",
       "      <th>Description</th>\n",
       "      <th>Quantity</th>\n",
       "      <th>InvoiceDate</th>\n",
       "      <th>UnitPrice</th>\n",
       "      <th>CustomerID</th>\n",
       "      <th>Country</th>\n",
       "    </tr>\n",
       "  </thead>\n",
       "  <tbody>\n",
       "    <tr>\n",
       "      <th>0</th>\n",
       "      <td>536365</td>\n",
       "      <td>85123A</td>\n",
       "      <td>WHITE HANGING HEART T-LIGHT HOLDER</td>\n",
       "      <td>6</td>\n",
       "      <td>2010-12-01 08:26:00</td>\n",
       "      <td>2.55</td>\n",
       "      <td>17850.0</td>\n",
       "      <td>United Kingdom</td>\n",
       "    </tr>\n",
       "    <tr>\n",
       "      <th>1</th>\n",
       "      <td>536365</td>\n",
       "      <td>71053</td>\n",
       "      <td>WHITE METAL LANTERN</td>\n",
       "      <td>6</td>\n",
       "      <td>2010-12-01 08:26:00</td>\n",
       "      <td>3.39</td>\n",
       "      <td>17850.0</td>\n",
       "      <td>United Kingdom</td>\n",
       "    </tr>\n",
       "    <tr>\n",
       "      <th>2</th>\n",
       "      <td>536365</td>\n",
       "      <td>84406B</td>\n",
       "      <td>CREAM CUPID HEARTS COAT HANGER</td>\n",
       "      <td>8</td>\n",
       "      <td>2010-12-01 08:26:00</td>\n",
       "      <td>2.75</td>\n",
       "      <td>17850.0</td>\n",
       "      <td>United Kingdom</td>\n",
       "    </tr>\n",
       "    <tr>\n",
       "      <th>3</th>\n",
       "      <td>536365</td>\n",
       "      <td>84029G</td>\n",
       "      <td>KNITTED UNION FLAG HOT WATER BOTTLE</td>\n",
       "      <td>6</td>\n",
       "      <td>2010-12-01 08:26:00</td>\n",
       "      <td>3.39</td>\n",
       "      <td>17850.0</td>\n",
       "      <td>United Kingdom</td>\n",
       "    </tr>\n",
       "    <tr>\n",
       "      <th>4</th>\n",
       "      <td>536365</td>\n",
       "      <td>84029E</td>\n",
       "      <td>RED WOOLLY HOTTIE WHITE HEART.</td>\n",
       "      <td>6</td>\n",
       "      <td>2010-12-01 08:26:00</td>\n",
       "      <td>3.39</td>\n",
       "      <td>17850.0</td>\n",
       "      <td>United Kingdom</td>\n",
       "    </tr>\n",
       "    <tr>\n",
       "      <th>...</th>\n",
       "      <td>...</td>\n",
       "      <td>...</td>\n",
       "      <td>...</td>\n",
       "      <td>...</td>\n",
       "      <td>...</td>\n",
       "      <td>...</td>\n",
       "      <td>...</td>\n",
       "      <td>...</td>\n",
       "    </tr>\n",
       "    <tr>\n",
       "      <th>541904</th>\n",
       "      <td>581587</td>\n",
       "      <td>22613</td>\n",
       "      <td>PACK OF 20 SPACEBOY NAPKINS</td>\n",
       "      <td>12</td>\n",
       "      <td>2011-12-09 12:50:00</td>\n",
       "      <td>0.85</td>\n",
       "      <td>12680.0</td>\n",
       "      <td>France</td>\n",
       "    </tr>\n",
       "    <tr>\n",
       "      <th>541905</th>\n",
       "      <td>581587</td>\n",
       "      <td>22899</td>\n",
       "      <td>CHILDREN'S APRON DOLLY GIRL</td>\n",
       "      <td>6</td>\n",
       "      <td>2011-12-09 12:50:00</td>\n",
       "      <td>2.10</td>\n",
       "      <td>12680.0</td>\n",
       "      <td>France</td>\n",
       "    </tr>\n",
       "    <tr>\n",
       "      <th>541906</th>\n",
       "      <td>581587</td>\n",
       "      <td>23254</td>\n",
       "      <td>CHILDRENS CUTLERY DOLLY GIRL</td>\n",
       "      <td>4</td>\n",
       "      <td>2011-12-09 12:50:00</td>\n",
       "      <td>4.15</td>\n",
       "      <td>12680.0</td>\n",
       "      <td>France</td>\n",
       "    </tr>\n",
       "    <tr>\n",
       "      <th>541907</th>\n",
       "      <td>581587</td>\n",
       "      <td>23255</td>\n",
       "      <td>CHILDRENS CUTLERY CIRCUS PARADE</td>\n",
       "      <td>4</td>\n",
       "      <td>2011-12-09 12:50:00</td>\n",
       "      <td>4.15</td>\n",
       "      <td>12680.0</td>\n",
       "      <td>France</td>\n",
       "    </tr>\n",
       "    <tr>\n",
       "      <th>541908</th>\n",
       "      <td>581587</td>\n",
       "      <td>22138</td>\n",
       "      <td>BAKING SET 9 PIECE RETROSPOT</td>\n",
       "      <td>3</td>\n",
       "      <td>2011-12-09 12:50:00</td>\n",
       "      <td>4.95</td>\n",
       "      <td>12680.0</td>\n",
       "      <td>France</td>\n",
       "    </tr>\n",
       "  </tbody>\n",
       "</table>\n",
       "<p>541909 rows × 8 columns</p>\n",
       "</div>"
      ],
      "text/plain": [
       "       InvoiceNo StockCode                          Description  Quantity  \\\n",
       "0         536365    85123A   WHITE HANGING HEART T-LIGHT HOLDER         6   \n",
       "1         536365     71053                  WHITE METAL LANTERN         6   \n",
       "2         536365    84406B       CREAM CUPID HEARTS COAT HANGER         8   \n",
       "3         536365    84029G  KNITTED UNION FLAG HOT WATER BOTTLE         6   \n",
       "4         536365    84029E       RED WOOLLY HOTTIE WHITE HEART.         6   \n",
       "...          ...       ...                                  ...       ...   \n",
       "541904    581587     22613          PACK OF 20 SPACEBOY NAPKINS        12   \n",
       "541905    581587     22899         CHILDREN'S APRON DOLLY GIRL          6   \n",
       "541906    581587     23254        CHILDRENS CUTLERY DOLLY GIRL          4   \n",
       "541907    581587     23255      CHILDRENS CUTLERY CIRCUS PARADE         4   \n",
       "541908    581587     22138        BAKING SET 9 PIECE RETROSPOT          3   \n",
       "\n",
       "               InvoiceDate  UnitPrice  CustomerID         Country  \n",
       "0      2010-12-01 08:26:00       2.55     17850.0  United Kingdom  \n",
       "1      2010-12-01 08:26:00       3.39     17850.0  United Kingdom  \n",
       "2      2010-12-01 08:26:00       2.75     17850.0  United Kingdom  \n",
       "3      2010-12-01 08:26:00       3.39     17850.0  United Kingdom  \n",
       "4      2010-12-01 08:26:00       3.39     17850.0  United Kingdom  \n",
       "...                    ...        ...         ...             ...  \n",
       "541904 2011-12-09 12:50:00       0.85     12680.0          France  \n",
       "541905 2011-12-09 12:50:00       2.10     12680.0          France  \n",
       "541906 2011-12-09 12:50:00       4.15     12680.0          France  \n",
       "541907 2011-12-09 12:50:00       4.15     12680.0          France  \n",
       "541908 2011-12-09 12:50:00       4.95     12680.0          France  \n",
       "\n",
       "[541909 rows x 8 columns]"
      ]
     },
     "execution_count": 5,
     "metadata": {},
     "output_type": "execute_result"
    }
   ],
   "source": [
    "#path = \"https://archive.ics.uci.edu/ml/machine-learning-databases/00352/Online%20Retail.xlsx\"\n",
    "path = \"../Atividades/Atividade 6/OnlineRetail.xlsx\"\n",
    "df = pd.read_excel(path)\n",
    "df"
   ]
  },
  {
   "cell_type": "code",
   "execution_count": 6,
   "id": "2d988e51",
   "metadata": {},
   "outputs": [
    {
     "data": {
      "text/html": [
       "<div>\n",
       "<style scoped>\n",
       "    .dataframe tbody tr th:only-of-type {\n",
       "        vertical-align: middle;\n",
       "    }\n",
       "\n",
       "    .dataframe tbody tr th {\n",
       "        vertical-align: top;\n",
       "    }\n",
       "\n",
       "    .dataframe thead th {\n",
       "        text-align: right;\n",
       "    }\n",
       "</style>\n",
       "<table border=\"1\" class=\"dataframe\">\n",
       "  <thead>\n",
       "    <tr style=\"text-align: right;\">\n",
       "      <th></th>\n",
       "      <th>InvoiceNo</th>\n",
       "      <th>StockCode</th>\n",
       "      <th>Description</th>\n",
       "      <th>Quantity</th>\n",
       "      <th>InvoiceDate</th>\n",
       "      <th>UnitPrice</th>\n",
       "      <th>CustomerID</th>\n",
       "      <th>Country</th>\n",
       "    </tr>\n",
       "  </thead>\n",
       "  <tbody>\n",
       "    <tr>\n",
       "      <th>0</th>\n",
       "      <td>536365</td>\n",
       "      <td>85123A</td>\n",
       "      <td>WHITE HANGING HEART T-LIGHT HOLDER</td>\n",
       "      <td>6</td>\n",
       "      <td>2010-12-01 08:26:00</td>\n",
       "      <td>2.55</td>\n",
       "      <td>17850.0</td>\n",
       "      <td>United Kingdom</td>\n",
       "    </tr>\n",
       "    <tr>\n",
       "      <th>1</th>\n",
       "      <td>536365</td>\n",
       "      <td>71053</td>\n",
       "      <td>WHITE METAL LANTERN</td>\n",
       "      <td>6</td>\n",
       "      <td>2010-12-01 08:26:00</td>\n",
       "      <td>3.39</td>\n",
       "      <td>17850.0</td>\n",
       "      <td>United Kingdom</td>\n",
       "    </tr>\n",
       "    <tr>\n",
       "      <th>2</th>\n",
       "      <td>536365</td>\n",
       "      <td>84406B</td>\n",
       "      <td>CREAM CUPID HEARTS COAT HANGER</td>\n",
       "      <td>8</td>\n",
       "      <td>2010-12-01 08:26:00</td>\n",
       "      <td>2.75</td>\n",
       "      <td>17850.0</td>\n",
       "      <td>United Kingdom</td>\n",
       "    </tr>\n",
       "    <tr>\n",
       "      <th>3</th>\n",
       "      <td>536365</td>\n",
       "      <td>84029G</td>\n",
       "      <td>KNITTED UNION FLAG HOT WATER BOTTLE</td>\n",
       "      <td>6</td>\n",
       "      <td>2010-12-01 08:26:00</td>\n",
       "      <td>3.39</td>\n",
       "      <td>17850.0</td>\n",
       "      <td>United Kingdom</td>\n",
       "    </tr>\n",
       "    <tr>\n",
       "      <th>4</th>\n",
       "      <td>536365</td>\n",
       "      <td>84029E</td>\n",
       "      <td>RED WOOLLY HOTTIE WHITE HEART.</td>\n",
       "      <td>6</td>\n",
       "      <td>2010-12-01 08:26:00</td>\n",
       "      <td>3.39</td>\n",
       "      <td>17850.0</td>\n",
       "      <td>United Kingdom</td>\n",
       "    </tr>\n",
       "    <tr>\n",
       "      <th>...</th>\n",
       "      <td>...</td>\n",
       "      <td>...</td>\n",
       "      <td>...</td>\n",
       "      <td>...</td>\n",
       "      <td>...</td>\n",
       "      <td>...</td>\n",
       "      <td>...</td>\n",
       "      <td>...</td>\n",
       "    </tr>\n",
       "    <tr>\n",
       "      <th>541904</th>\n",
       "      <td>581587</td>\n",
       "      <td>22613</td>\n",
       "      <td>PACK OF 20 SPACEBOY NAPKINS</td>\n",
       "      <td>12</td>\n",
       "      <td>2011-12-09 12:50:00</td>\n",
       "      <td>0.85</td>\n",
       "      <td>12680.0</td>\n",
       "      <td>France</td>\n",
       "    </tr>\n",
       "    <tr>\n",
       "      <th>541905</th>\n",
       "      <td>581587</td>\n",
       "      <td>22899</td>\n",
       "      <td>CHILDREN'S APRON DOLLY GIRL</td>\n",
       "      <td>6</td>\n",
       "      <td>2011-12-09 12:50:00</td>\n",
       "      <td>2.10</td>\n",
       "      <td>12680.0</td>\n",
       "      <td>France</td>\n",
       "    </tr>\n",
       "    <tr>\n",
       "      <th>541906</th>\n",
       "      <td>581587</td>\n",
       "      <td>23254</td>\n",
       "      <td>CHILDRENS CUTLERY DOLLY GIRL</td>\n",
       "      <td>4</td>\n",
       "      <td>2011-12-09 12:50:00</td>\n",
       "      <td>4.15</td>\n",
       "      <td>12680.0</td>\n",
       "      <td>France</td>\n",
       "    </tr>\n",
       "    <tr>\n",
       "      <th>541907</th>\n",
       "      <td>581587</td>\n",
       "      <td>23255</td>\n",
       "      <td>CHILDRENS CUTLERY CIRCUS PARADE</td>\n",
       "      <td>4</td>\n",
       "      <td>2011-12-09 12:50:00</td>\n",
       "      <td>4.15</td>\n",
       "      <td>12680.0</td>\n",
       "      <td>France</td>\n",
       "    </tr>\n",
       "    <tr>\n",
       "      <th>541908</th>\n",
       "      <td>581587</td>\n",
       "      <td>22138</td>\n",
       "      <td>BAKING SET 9 PIECE RETROSPOT</td>\n",
       "      <td>3</td>\n",
       "      <td>2011-12-09 12:50:00</td>\n",
       "      <td>4.95</td>\n",
       "      <td>12680.0</td>\n",
       "      <td>France</td>\n",
       "    </tr>\n",
       "  </tbody>\n",
       "</table>\n",
       "<p>530104 rows × 8 columns</p>\n",
       "</div>"
      ],
      "text/plain": [
       "       InvoiceNo StockCode                          Description  Quantity  \\\n",
       "0         536365    85123A   WHITE HANGING HEART T-LIGHT HOLDER         6   \n",
       "1         536365     71053                  WHITE METAL LANTERN         6   \n",
       "2         536365    84406B       CREAM CUPID HEARTS COAT HANGER         8   \n",
       "3         536365    84029G  KNITTED UNION FLAG HOT WATER BOTTLE         6   \n",
       "4         536365    84029E       RED WOOLLY HOTTIE WHITE HEART.         6   \n",
       "...          ...       ...                                  ...       ...   \n",
       "541904    581587     22613          PACK OF 20 SPACEBOY NAPKINS        12   \n",
       "541905    581587     22899         CHILDREN'S APRON DOLLY GIRL          6   \n",
       "541906    581587     23254        CHILDRENS CUTLERY DOLLY GIRL          4   \n",
       "541907    581587     23255      CHILDRENS CUTLERY CIRCUS PARADE         4   \n",
       "541908    581587     22138        BAKING SET 9 PIECE RETROSPOT          3   \n",
       "\n",
       "               InvoiceDate  UnitPrice  CustomerID         Country  \n",
       "0      2010-12-01 08:26:00       2.55     17850.0  United Kingdom  \n",
       "1      2010-12-01 08:26:00       3.39     17850.0  United Kingdom  \n",
       "2      2010-12-01 08:26:00       2.75     17850.0  United Kingdom  \n",
       "3      2010-12-01 08:26:00       3.39     17850.0  United Kingdom  \n",
       "4      2010-12-01 08:26:00       3.39     17850.0  United Kingdom  \n",
       "...                    ...        ...         ...             ...  \n",
       "541904 2011-12-09 12:50:00       0.85     12680.0          France  \n",
       "541905 2011-12-09 12:50:00       2.10     12680.0          France  \n",
       "541906 2011-12-09 12:50:00       4.15     12680.0          France  \n",
       "541907 2011-12-09 12:50:00       4.15     12680.0          France  \n",
       "541908 2011-12-09 12:50:00       4.95     12680.0          France  \n",
       "\n",
       "[530104 rows x 8 columns]"
      ]
     },
     "execution_count": 6,
     "metadata": {},
     "output_type": "execute_result"
    }
   ],
   "source": [
    "#Filtrando para remover quantidade e preços negativos\n",
    "df = df[(df['Quantity'] > 0) & (df['UnitPrice'] > 0)]\n",
    "df"
   ]
  },
  {
   "cell_type": "markdown",
   "id": "5d05186a",
   "metadata": {},
   "source": [
    "<H2> 1. Faça um gráfico de barras mostrando a quantidade total vendida de cada\n",
    "um dos 10 primeiros produtos que aparecem no Dataframe.\n"
   ]
  },
  {
   "cell_type": "code",
   "execution_count": 19,
   "id": "9d086eb8",
   "metadata": {},
   "outputs": [
    {
     "data": {
      "text/html": [
       "<div>\n",
       "<style scoped>\n",
       "    .dataframe tbody tr th:only-of-type {\n",
       "        vertical-align: middle;\n",
       "    }\n",
       "\n",
       "    .dataframe tbody tr th {\n",
       "        vertical-align: top;\n",
       "    }\n",
       "\n",
       "    .dataframe thead th {\n",
       "        text-align: right;\n",
       "    }\n",
       "</style>\n",
       "<table border=\"1\" class=\"dataframe\">\n",
       "  <thead>\n",
       "    <tr style=\"text-align: right;\">\n",
       "      <th></th>\n",
       "      <th>Quantity</th>\n",
       "      <th>UnitPrice</th>\n",
       "      <th>CustomerID</th>\n",
       "    </tr>\n",
       "    <tr>\n",
       "      <th>StockCode</th>\n",
       "      <th></th>\n",
       "      <th></th>\n",
       "      <th></th>\n",
       "    </tr>\n",
       "  </thead>\n",
       "  <tbody>\n",
       "    <tr>\n",
       "      <th>10002</th>\n",
       "      <td>860</td>\n",
       "      <td>77.15</td>\n",
       "      <td>723842.0</td>\n",
       "    </tr>\n",
       "    <tr>\n",
       "      <th>10080</th>\n",
       "      <td>303</td>\n",
       "      <td>9.04</td>\n",
       "      <td>333014.0</td>\n",
       "    </tr>\n",
       "    <tr>\n",
       "      <th>10120</th>\n",
       "      <td>193</td>\n",
       "      <td>6.30</td>\n",
       "      <td>484879.0</td>\n",
       "    </tr>\n",
       "    <tr>\n",
       "      <th>10125</th>\n",
       "      <td>1296</td>\n",
       "      <td>80.81</td>\n",
       "      <td>976545.0</td>\n",
       "    </tr>\n",
       "    <tr>\n",
       "      <th>10133</th>\n",
       "      <td>2867</td>\n",
       "      <td>128.74</td>\n",
       "      <td>1924778.0</td>\n",
       "    </tr>\n",
       "    <tr>\n",
       "      <th>10135</th>\n",
       "      <td>2231</td>\n",
       "      <td>252.58</td>\n",
       "      <td>1840002.0</td>\n",
       "    </tr>\n",
       "    <tr>\n",
       "      <th>11001</th>\n",
       "      <td>1615</td>\n",
       "      <td>217.35</td>\n",
       "      <td>972418.0</td>\n",
       "    </tr>\n",
       "    <tr>\n",
       "      <th>15030</th>\n",
       "      <td>143</td>\n",
       "      <td>3.77</td>\n",
       "      <td>208128.0</td>\n",
       "    </tr>\n",
       "    <tr>\n",
       "      <th>15034</th>\n",
       "      <td>6591</td>\n",
       "      <td>51.61</td>\n",
       "      <td>1357650.0</td>\n",
       "    </tr>\n",
       "  </tbody>\n",
       "</table>\n",
       "</div>"
      ],
      "text/plain": [
       "           Quantity  UnitPrice  CustomerID\n",
       "StockCode                                 \n",
       "10002           860      77.15    723842.0\n",
       "10080           303       9.04    333014.0\n",
       "10120           193       6.30    484879.0\n",
       "10125          1296      80.81    976545.0\n",
       "10133          2867     128.74   1924778.0\n",
       "10135          2231     252.58   1840002.0\n",
       "11001          1615     217.35    972418.0\n",
       "15030           143       3.77    208128.0\n",
       "15034          6591      51.61   1357650.0"
      ]
     },
     "execution_count": 19,
     "metadata": {},
     "output_type": "execute_result"
    }
   ],
   "source": [
    "group_produts = df.groupby(\"StockCode\")\n",
    "group_produts.sum().iloc[0:9]"
   ]
  },
  {
   "cell_type": "code",
   "execution_count": 20,
   "id": "8bfad63a",
   "metadata": {},
   "outputs": [
    {
     "data": {
      "image/png": "[encoded data removed]",
      "text/plain": [
       "<Figure size 432x288 with 1 Axes>"
      ]
     },
     "metadata": {
      "needs_background": "light"
     },
     "output_type": "display_data"
    }
   ],
   "source": [
    "group_produts.sum().iloc[0:9]['Quantity'].plot(kind='bar')\n",
    "plt.ylabel(\"Quantidade dos produtos\")\n",
    "plt.xlabel(\"StockCode do produto\")\n",
    "plt.show()"
   ]
  },
  {
   "cell_type": "markdown",
   "id": "3af209fe",
   "metadata": {},
   "source": [
    "<h2> 2. Faça um Boxplot dos preços unitários dos produtos. Considere somente\n",
    "os 10 produtos mais vendidos.\n"
   ]
  },
  {
   "cell_type": "code",
   "execution_count": 161,
   "id": "523d4f92",
   "metadata": {},
   "outputs": [
    {
     "data": {
      "text/html": [
       "<div>\n",
       "<style scoped>\n",
       "    .dataframe tbody tr th:only-of-type {\n",
       "        vertical-align: middle;\n",
       "    }\n",
       "\n",
       "    .dataframe tbody tr th {\n",
       "        vertical-align: top;\n",
       "    }\n",
       "\n",
       "    .dataframe thead th {\n",
       "        text-align: right;\n",
       "    }\n",
       "</style>\n",
       "<table border=\"1\" class=\"dataframe\">\n",
       "  <thead>\n",
       "    <tr style=\"text-align: right;\">\n",
       "      <th></th>\n",
       "      <th>InvoiceNo</th>\n",
       "      <th>StockCode</th>\n",
       "      <th>Description</th>\n",
       "      <th>Quantity</th>\n",
       "      <th>InvoiceDate</th>\n",
       "      <th>UnitPrice</th>\n",
       "      <th>CustomerID</th>\n",
       "      <th>Country</th>\n",
       "      <th>totalPrice</th>\n",
       "      <th>diaVenda</th>\n",
       "    </tr>\n",
       "  </thead>\n",
       "  <tbody>\n",
       "    <tr>\n",
       "      <th>540421</th>\n",
       "      <td>581483</td>\n",
       "      <td>23843</td>\n",
       "      <td>PAPER CRAFT , LITTLE BIRDIE</td>\n",
       "      <td>80995</td>\n",
       "      <td>2011-12-09 09:15:00</td>\n",
       "      <td>2.08</td>\n",
       "      <td>16446.0</td>\n",
       "      <td>United Kingdom</td>\n",
       "      <td>168469.60</td>\n",
       "      <td>12/09/2011</td>\n",
       "    </tr>\n",
       "    <tr>\n",
       "      <th>61619</th>\n",
       "      <td>541431</td>\n",
       "      <td>23166</td>\n",
       "      <td>MEDIUM CERAMIC TOP STORAGE JAR</td>\n",
       "      <td>74215</td>\n",
       "      <td>2011-01-18 10:01:00</td>\n",
       "      <td>1.04</td>\n",
       "      <td>12346.0</td>\n",
       "      <td>United Kingdom</td>\n",
       "      <td>77183.60</td>\n",
       "      <td>01/18/2011</td>\n",
       "    </tr>\n",
       "    <tr>\n",
       "      <th>421632</th>\n",
       "      <td>573008</td>\n",
       "      <td>84077</td>\n",
       "      <td>WORLD WAR 2 GLIDERS ASSTD DESIGNS</td>\n",
       "      <td>4800</td>\n",
       "      <td>2011-10-27 12:26:00</td>\n",
       "      <td>0.21</td>\n",
       "      <td>12901.0</td>\n",
       "      <td>United Kingdom</td>\n",
       "      <td>1008.00</td>\n",
       "      <td>10/27/2011</td>\n",
       "    </tr>\n",
       "    <tr>\n",
       "      <th>206121</th>\n",
       "      <td>554868</td>\n",
       "      <td>22197</td>\n",
       "      <td>SMALL POPCORN HOLDER</td>\n",
       "      <td>4300</td>\n",
       "      <td>2011-05-27 10:52:00</td>\n",
       "      <td>0.72</td>\n",
       "      <td>13135.0</td>\n",
       "      <td>United Kingdom</td>\n",
       "      <td>3096.00</td>\n",
       "      <td>05/27/2011</td>\n",
       "    </tr>\n",
       "    <tr>\n",
       "      <th>97432</th>\n",
       "      <td>544612</td>\n",
       "      <td>22053</td>\n",
       "      <td>EMPIRE DESIGN ROSETTE</td>\n",
       "      <td>3906</td>\n",
       "      <td>2011-02-22 10:43:00</td>\n",
       "      <td>0.82</td>\n",
       "      <td>18087.0</td>\n",
       "      <td>United Kingdom</td>\n",
       "      <td>3202.92</td>\n",
       "      <td>02/22/2011</td>\n",
       "    </tr>\n",
       "    <tr>\n",
       "      <th>270885</th>\n",
       "      <td>560599</td>\n",
       "      <td>18007</td>\n",
       "      <td>ESSENTIAL BALM 3.5g TIN IN ENVELOPE</td>\n",
       "      <td>3186</td>\n",
       "      <td>2011-07-19 17:04:00</td>\n",
       "      <td>0.06</td>\n",
       "      <td>14609.0</td>\n",
       "      <td>United Kingdom</td>\n",
       "      <td>191.16</td>\n",
       "      <td>07/19/2011</td>\n",
       "    </tr>\n",
       "    <tr>\n",
       "      <th>52711</th>\n",
       "      <td>540815</td>\n",
       "      <td>21108</td>\n",
       "      <td>FAIRY CAKE FLANNEL ASSORTED COLOUR</td>\n",
       "      <td>3114</td>\n",
       "      <td>2011-01-11 12:55:00</td>\n",
       "      <td>2.10</td>\n",
       "      <td>15749.0</td>\n",
       "      <td>United Kingdom</td>\n",
       "      <td>6539.40</td>\n",
       "      <td>01/11/2011</td>\n",
       "    </tr>\n",
       "    <tr>\n",
       "      <th>160546</th>\n",
       "      <td>550461</td>\n",
       "      <td>21108</td>\n",
       "      <td>FAIRY CAKE FLANNEL ASSORTED COLOUR</td>\n",
       "      <td>3114</td>\n",
       "      <td>2011-04-18 13:20:00</td>\n",
       "      <td>2.10</td>\n",
       "      <td>15749.0</td>\n",
       "      <td>United Kingdom</td>\n",
       "      <td>6539.40</td>\n",
       "      <td>04/18/2011</td>\n",
       "    </tr>\n",
       "    <tr>\n",
       "      <th>433788</th>\n",
       "      <td>573995</td>\n",
       "      <td>16014</td>\n",
       "      <td>SMALL CHINESE STYLE SCISSOR</td>\n",
       "      <td>3000</td>\n",
       "      <td>2011-11-02 11:24:00</td>\n",
       "      <td>0.32</td>\n",
       "      <td>16308.0</td>\n",
       "      <td>United Kingdom</td>\n",
       "      <td>960.00</td>\n",
       "      <td>11/02/2011</td>\n",
       "    </tr>\n",
       "    <tr>\n",
       "      <th>4945</th>\n",
       "      <td>536830</td>\n",
       "      <td>84077</td>\n",
       "      <td>WORLD WAR 2 GLIDERS ASSTD DESIGNS</td>\n",
       "      <td>2880</td>\n",
       "      <td>2010-12-02 17:38:00</td>\n",
       "      <td>0.18</td>\n",
       "      <td>16754.0</td>\n",
       "      <td>United Kingdom</td>\n",
       "      <td>518.40</td>\n",
       "      <td>12/02/2010</td>\n",
       "    </tr>\n",
       "  </tbody>\n",
       "</table>\n",
       "</div>"
      ],
      "text/plain": [
       "       InvoiceNo StockCode                          Description  Quantity  \\\n",
       "540421    581483     23843          PAPER CRAFT , LITTLE BIRDIE     80995   \n",
       "61619     541431     23166       MEDIUM CERAMIC TOP STORAGE JAR     74215   \n",
       "421632    573008     84077    WORLD WAR 2 GLIDERS ASSTD DESIGNS      4800   \n",
       "206121    554868     22197                 SMALL POPCORN HOLDER      4300   \n",
       "97432     544612     22053                EMPIRE DESIGN ROSETTE      3906   \n",
       "270885    560599     18007  ESSENTIAL BALM 3.5g TIN IN ENVELOPE      3186   \n",
       "52711     540815     21108   FAIRY CAKE FLANNEL ASSORTED COLOUR      3114   \n",
       "160546    550461     21108   FAIRY CAKE FLANNEL ASSORTED COLOUR      3114   \n",
       "433788    573995     16014          SMALL CHINESE STYLE SCISSOR      3000   \n",
       "4945      536830     84077    WORLD WAR 2 GLIDERS ASSTD DESIGNS      2880   \n",
       "\n",
       "               InvoiceDate  UnitPrice  CustomerID         Country  totalPrice  \\\n",
       "540421 2011-12-09 09:15:00       2.08     16446.0  United Kingdom   168469.60   \n",
       "61619  2011-01-18 10:01:00       1.04     12346.0  United Kingdom    77183.60   \n",
       "421632 2011-10-27 12:26:00       0.21     12901.0  United Kingdom     1008.00   \n",
       "206121 2011-05-27 10:52:00       0.72     13135.0  United Kingdom     3096.00   \n",
       "97432  2011-02-22 10:43:00       0.82     18087.0  United Kingdom     3202.92   \n",
       "270885 2011-07-19 17:04:00       0.06     14609.0  United Kingdom      191.16   \n",
       "52711  2011-01-11 12:55:00       2.10     15749.0  United Kingdom     6539.40   \n",
       "160546 2011-04-18 13:20:00       2.10     15749.0  United Kingdom     6539.40   \n",
       "433788 2011-11-02 11:24:00       0.32     16308.0  United Kingdom      960.00   \n",
       "4945   2010-12-02 17:38:00       0.18     16754.0  United Kingdom      518.40   \n",
       "\n",
       "          diaVenda  \n",
       "540421  12/09/2011  \n",
       "61619   01/18/2011  \n",
       "421632  10/27/2011  \n",
       "206121  05/27/2011  \n",
       "97432   02/22/2011  \n",
       "270885  07/19/2011  \n",
       "52711   01/11/2011  \n",
       "160546  04/18/2011  \n",
       "433788  11/02/2011  \n",
       "4945    12/02/2010  "
      ]
     },
     "execution_count": 161,
     "metadata": {},
     "output_type": "execute_result"
    }
   ],
   "source": [
    "maisVendidos = df.sort_values(['Quantity'], ascending=False)\n",
    "maisVendidos[0:10]"
   ]
  },
  {
   "cell_type": "code",
   "execution_count": 162,
   "id": "5e551881",
   "metadata": {},
   "outputs": [
    {
     "data": {
      "image/png": "[encoded data removed]",
      "text/plain": [
       "<Figure size 432x288 with 1 Axes>"
      ]
     },
     "metadata": {
      "needs_background": "light"
     },
     "output_type": "display_data"
    }
   ],
   "source": [
    "maisVendidos[0:10]['UnitPrice'].plot.box()\n",
    "plt.title(\"Gráfico Boxplot dos preços unitários\")\n",
    "plt.ylabel(\"Preço unitário\")\n",
    "plt.show()"
   ]
  },
  {
   "cell_type": "markdown",
   "id": "91b5956c",
   "metadata": {},
   "source": [
    "<h2> 3. Faça um gráfico de linhas mostrando o faturamento (total de preços das\n",
    "vendas) por dia.\n"
   ]
  },
  {
   "cell_type": "code",
   "execution_count": 7,
   "id": "fb2c7c03",
   "metadata": {
    "scrolled": true
   },
   "outputs": [
    {
     "data": {
      "text/html": [
       "<div>\n",
       "<style scoped>\n",
       "    .dataframe tbody tr th:only-of-type {\n",
       "        vertical-align: middle;\n",
       "    }\n",
       "\n",
       "    .dataframe tbody tr th {\n",
       "        vertical-align: top;\n",
       "    }\n",
       "\n",
       "    .dataframe thead th {\n",
       "        text-align: right;\n",
       "    }\n",
       "</style>\n",
       "<table border=\"1\" class=\"dataframe\">\n",
       "  <thead>\n",
       "    <tr style=\"text-align: right;\">\n",
       "      <th></th>\n",
       "      <th>Quantity</th>\n",
       "      <th>UnitPrice</th>\n",
       "      <th>CustomerID</th>\n",
       "      <th>totalPrice</th>\n",
       "    </tr>\n",
       "    <tr>\n",
       "      <th>diaVenda</th>\n",
       "      <th></th>\n",
       "      <th></th>\n",
       "      <th></th>\n",
       "      <th></th>\n",
       "    </tr>\n",
       "  </thead>\n",
       "  <tbody>\n",
       "    <tr>\n",
       "      <th>01/04/2011</th>\n",
       "      <td>7939</td>\n",
       "      <td>4326.02</td>\n",
       "      <td>11732866.0</td>\n",
       "      <td>14950.48</td>\n",
       "    </tr>\n",
       "    <tr>\n",
       "      <th>01/05/2011</th>\n",
       "      <td>18435</td>\n",
       "      <td>39220.59</td>\n",
       "      <td>16700199.0</td>\n",
       "      <td>-1566.23</td>\n",
       "    </tr>\n",
       "    <tr>\n",
       "      <th>01/06/2011</th>\n",
       "      <td>22461</td>\n",
       "      <td>7950.66</td>\n",
       "      <td>19326959.0</td>\n",
       "      <td>37392.74</td>\n",
       "    </tr>\n",
       "    <tr>\n",
       "      <th>01/07/2011</th>\n",
       "      <td>16475</td>\n",
       "      <td>5871.85</td>\n",
       "      <td>16067301.0</td>\n",
       "      <td>27233.14</td>\n",
       "    </tr>\n",
       "    <tr>\n",
       "      <th>01/09/2011</th>\n",
       "      <td>8181</td>\n",
       "      <td>3544.55</td>\n",
       "      <td>17213708.0</td>\n",
       "      <td>15710.80</td>\n",
       "    </tr>\n",
       "    <tr>\n",
       "      <th>01/10/2011</th>\n",
       "      <td>9014</td>\n",
       "      <td>7827.63</td>\n",
       "      <td>12080214.0</td>\n",
       "      <td>24191.64</td>\n",
       "    </tr>\n",
       "    <tr>\n",
       "      <th>01/11/2011</th>\n",
       "      <td>29093</td>\n",
       "      <td>5225.15</td>\n",
       "      <td>13587952.0</td>\n",
       "      <td>67817.13</td>\n",
       "    </tr>\n",
       "    <tr>\n",
       "      <th>01/12/2011</th>\n",
       "      <td>10133</td>\n",
       "      <td>7600.88</td>\n",
       "      <td>14032050.0</td>\n",
       "      <td>23958.78</td>\n",
       "    </tr>\n",
       "    <tr>\n",
       "      <th>01/13/2011</th>\n",
       "      <td>10114</td>\n",
       "      <td>5666.02</td>\n",
       "      <td>11058584.0</td>\n",
       "      <td>20533.54</td>\n",
       "    </tr>\n",
       "    <tr>\n",
       "      <th>01/14/2011</th>\n",
       "      <td>23091</td>\n",
       "      <td>6553.24</td>\n",
       "      <td>12270281.0</td>\n",
       "      <td>47377.26</td>\n",
       "    </tr>\n",
       "  </tbody>\n",
       "</table>\n",
       "</div>"
      ],
      "text/plain": [
       "            Quantity  UnitPrice  CustomerID  totalPrice\n",
       "diaVenda                                               \n",
       "01/04/2011      7939    4326.02  11732866.0    14950.48\n",
       "01/05/2011     18435   39220.59  16700199.0    -1566.23\n",
       "01/06/2011     22461    7950.66  19326959.0    37392.74\n",
       "01/07/2011     16475    5871.85  16067301.0    27233.14\n",
       "01/09/2011      8181    3544.55  17213708.0    15710.80\n",
       "01/10/2011      9014    7827.63  12080214.0    24191.64\n",
       "01/11/2011     29093    5225.15  13587952.0    67817.13\n",
       "01/12/2011     10133    7600.88  14032050.0    23958.78\n",
       "01/13/2011     10114    5666.02  11058584.0    20533.54\n",
       "01/14/2011     23091    6553.24  12270281.0    47377.26"
      ]
     },
     "execution_count": 7,
     "metadata": {},
     "output_type": "execute_result"
    }
   ],
   "source": [
    "df['totalPrice'] = df['Quantity'] * df['UnitPrice']\n",
    "df['diaVenda'] = df['InvoiceDate'].dt.strftime('%m/%d/%Y')\n",
    "final = df.sort_values('diaVenda',ascending=True)\n",
    "agrupamentoTotal = final.groupby('diaVenda').sum()\n",
    "agrupamentoTotal.head(10)"
   ]
  },
  {
   "cell_type": "code",
   "execution_count": 43,
   "id": "48d72acd",
   "metadata": {},
   "outputs": [
    {
     "data": {
      "image/png": "[encoded data removed]",
      "text/plain": [
       "<Figure size 432x288 with 1 Axes>"
      ]
     },
     "metadata": {
      "needs_background": "light"
     },
     "output_type": "display_data"
    }
   ],
   "source": [
    "agrupamentoTotal['totalPrice'].plot()\n",
    "plt.xlabel(\"Data Compra\")\n",
    "plt.ylabel(\"Preço Total\")\n",
    "#Como são muitos dias, ficaria confuso avaliar dia por dia, prov. O objetivo deste mapa é acompanhar a variação por preço,\n",
    "#porntanto, cada dia individualmente é irrelevante para esta visualização\n",
    "plt.xticks([])\n",
    "plt.show()"
   ]
  },
  {
   "cell_type": "markdown",
   "id": "1ce21dcb",
   "metadata": {},
   "source": [
    "<h2> 4. Faça o histograma da média dos preços unitários dos produtos.\n"
   ]
  },
  {
   "cell_type": "code",
   "execution_count": 57,
   "id": "9413cb28",
   "metadata": {},
   "outputs": [
    {
     "data": {
      "text/html": [
       "<div>\n",
       "<style scoped>\n",
       "    .dataframe tbody tr th:only-of-type {\n",
       "        vertical-align: middle;\n",
       "    }\n",
       "\n",
       "    .dataframe tbody tr th {\n",
       "        vertical-align: top;\n",
       "    }\n",
       "\n",
       "    .dataframe thead th {\n",
       "        text-align: right;\n",
       "    }\n",
       "</style>\n",
       "<table border=\"1\" class=\"dataframe\">\n",
       "  <thead>\n",
       "    <tr style=\"text-align: right;\">\n",
       "      <th></th>\n",
       "      <th>Quantity</th>\n",
       "      <th>UnitPrice</th>\n",
       "      <th>CustomerID</th>\n",
       "      <th>totalPrice</th>\n",
       "    </tr>\n",
       "    <tr>\n",
       "      <th>StockCode</th>\n",
       "      <th></th>\n",
       "      <th></th>\n",
       "      <th></th>\n",
       "      <th></th>\n",
       "    </tr>\n",
       "  </thead>\n",
       "  <tbody>\n",
       "    <tr>\n",
       "      <th>10002</th>\n",
       "      <td>12.112676</td>\n",
       "      <td>1.086620</td>\n",
       "      <td>14772.285714</td>\n",
       "      <td>10.702676</td>\n",
       "    </tr>\n",
       "    <tr>\n",
       "      <th>10080</th>\n",
       "      <td>13.772727</td>\n",
       "      <td>0.410909</td>\n",
       "      <td>15857.809524</td>\n",
       "      <td>5.413182</td>\n",
       "    </tr>\n",
       "    <tr>\n",
       "      <th>10120</th>\n",
       "      <td>6.433333</td>\n",
       "      <td>0.210000</td>\n",
       "      <td>16162.633333</td>\n",
       "      <td>1.351000</td>\n",
       "    </tr>\n",
       "    <tr>\n",
       "      <th>10125</th>\n",
       "      <td>13.787234</td>\n",
       "      <td>0.859681</td>\n",
       "      <td>15258.515625</td>\n",
       "      <td>10.583404</td>\n",
       "    </tr>\n",
       "    <tr>\n",
       "      <th>10133</th>\n",
       "      <td>14.479798</td>\n",
       "      <td>0.650202</td>\n",
       "      <td>15522.403226</td>\n",
       "      <td>7.799091</td>\n",
       "    </tr>\n",
       "    <tr>\n",
       "      <th>...</th>\n",
       "      <td>...</td>\n",
       "      <td>...</td>\n",
       "      <td>...</td>\n",
       "      <td>...</td>\n",
       "    </tr>\n",
       "    <tr>\n",
       "      <th>gift_0001_20</th>\n",
       "      <td>1.111111</td>\n",
       "      <td>16.708889</td>\n",
       "      <td>NaN</td>\n",
       "      <td>18.561111</td>\n",
       "    </tr>\n",
       "    <tr>\n",
       "      <th>gift_0001_30</th>\n",
       "      <td>1.000000</td>\n",
       "      <td>25.075714</td>\n",
       "      <td>NaN</td>\n",
       "      <td>25.075714</td>\n",
       "    </tr>\n",
       "    <tr>\n",
       "      <th>gift_0001_40</th>\n",
       "      <td>1.000000</td>\n",
       "      <td>33.566667</td>\n",
       "      <td>NaN</td>\n",
       "      <td>33.566667</td>\n",
       "    </tr>\n",
       "    <tr>\n",
       "      <th>gift_0001_50</th>\n",
       "      <td>1.000000</td>\n",
       "      <td>41.890000</td>\n",
       "      <td>NaN</td>\n",
       "      <td>41.890000</td>\n",
       "    </tr>\n",
       "    <tr>\n",
       "      <th>m</th>\n",
       "      <td>1.000000</td>\n",
       "      <td>2.550000</td>\n",
       "      <td>NaN</td>\n",
       "      <td>2.550000</td>\n",
       "    </tr>\n",
       "  </tbody>\n",
       "</table>\n",
       "<p>3922 rows × 4 columns</p>\n",
       "</div>"
      ],
      "text/plain": [
       "               Quantity  UnitPrice    CustomerID  totalPrice\n",
       "StockCode                                                   \n",
       "10002         12.112676   1.086620  14772.285714   10.702676\n",
       "10080         13.772727   0.410909  15857.809524    5.413182\n",
       "10120          6.433333   0.210000  16162.633333    1.351000\n",
       "10125         13.787234   0.859681  15258.515625   10.583404\n",
       "10133         14.479798   0.650202  15522.403226    7.799091\n",
       "...                 ...        ...           ...         ...\n",
       "gift_0001_20   1.111111  16.708889           NaN   18.561111\n",
       "gift_0001_30   1.000000  25.075714           NaN   25.075714\n",
       "gift_0001_40   1.000000  33.566667           NaN   33.566667\n",
       "gift_0001_50   1.000000  41.890000           NaN   41.890000\n",
       "m              1.000000   2.550000           NaN    2.550000\n",
       "\n",
       "[3922 rows x 4 columns]"
      ]
     },
     "execution_count": 57,
     "metadata": {},
     "output_type": "execute_result"
    }
   ],
   "source": [
    "agrupamentoProdutos = df.groupby('StockCode')\n",
    "histogram = agrupamentoProdutos.mean()\n",
    "histogram"
   ]
  },
  {
   "cell_type": "code",
   "execution_count": 69,
   "id": "6bfba8a6",
   "metadata": {},
   "outputs": [
    {
     "data": {
      "image/png": "[encoded data removed]",
      "text/plain": [
       "<Figure size 432x288 with 1 Axes>"
      ]
     },
     "metadata": {
      "needs_background": "light"
     },
     "output_type": "display_data"
    }
   ],
   "source": [
    "#Podemos observar muitos outliers, portanto, é melhor reduzirmos o valor dos preços unitários\n",
    "histogram['UnitPrice'].plot.box()\n",
    "plt.ylabel('Preço Unitário Médio')\n",
    "plt.show()"
   ]
  },
  {
   "cell_type": "code",
   "execution_count": 76,
   "id": "9ca03014",
   "metadata": {},
   "outputs": [
    {
     "data": {
      "image/png": "[encoded data removed]",
      "text/plain": [
       "<Figure size 432x288 with 1 Axes>"
      ]
     },
     "metadata": {
      "needs_background": "light"
     },
     "output_type": "display_data"
    }
   ],
   "source": [
    "#Aqui podemos ver que a maioria dos valores vão de 10^-3 até 10^1\n",
    "histogram['UnitPrice'].plot.box()\n",
    "plt.ylabel('Preço Unitário Médio')\n",
    "plt.yscale('log')\n",
    "plt.show()"
   ]
  },
  {
   "cell_type": "code",
   "execution_count": 71,
   "id": "c9541307",
   "metadata": {
    "scrolled": true
   },
   "outputs": [
    {
     "data": {
      "image/png": "[encoded data removed]",
      "text/plain": [
       "<Figure size 432x288 with 1 Axes>"
      ]
     },
     "metadata": {
      "needs_background": "light"
     },
     "output_type": "display_data"
    }
   ],
   "source": [
    "histogram.loc[(histogram['UnitPrice'] < 10)]['UnitPrice'].plot.box()\n",
    "plt.ylabel('Preço Unitário Médio')\n",
    "plt.show()"
   ]
  },
  {
   "cell_type": "code",
   "execution_count": 82,
   "id": "2e3b4fda",
   "metadata": {},
   "outputs": [
    {
     "data": {
      "image/png": "[encoded data removed]",
      "text/plain": [
       "<Figure size 432x288 with 1 Axes>"
      ]
     },
     "metadata": {
      "needs_background": "light"
     },
     "output_type": "display_data"
    }
   ],
   "source": [
    "histogram.loc[(histogram['UnitPrice'] < 10)]['UnitPrice'].hist(bins=100)\n",
    "plt.ylabel('Quantidade')\n",
    "plt.xlabel('Preço Unitário Médio')\n",
    "plt.show()"
   ]
  },
  {
   "cell_type": "markdown",
   "id": "58cefee4",
   "metadata": {},
   "source": [
    "<h2> 5. Faça dois gráficos de barras, sendo um da quantidade de compras e outro\n",
    "do total de faturamento por país.\n"
   ]
  },
  {
   "cell_type": "code",
   "execution_count": 141,
   "id": "778412b4",
   "metadata": {
    "scrolled": false
   },
   "outputs": [
    {
     "data": {
      "text/html": [
       "<div>\n",
       "<style scoped>\n",
       "    .dataframe tbody tr th:only-of-type {\n",
       "        vertical-align: middle;\n",
       "    }\n",
       "\n",
       "    .dataframe tbody tr th {\n",
       "        vertical-align: top;\n",
       "    }\n",
       "\n",
       "    .dataframe thead th {\n",
       "        text-align: right;\n",
       "    }\n",
       "</style>\n",
       "<table border=\"1\" class=\"dataframe\">\n",
       "  <thead>\n",
       "    <tr style=\"text-align: right;\">\n",
       "      <th></th>\n",
       "      <th>Quantity</th>\n",
       "      <th>UnitPrice</th>\n",
       "      <th>CustomerID</th>\n",
       "      <th>totalPrice</th>\n",
       "    </tr>\n",
       "    <tr>\n",
       "      <th>Country</th>\n",
       "      <th></th>\n",
       "      <th></th>\n",
       "      <th></th>\n",
       "      <th></th>\n",
       "    </tr>\n",
       "  </thead>\n",
       "  <tbody>\n",
       "    <tr>\n",
       "      <th>United Kingdom</th>\n",
       "      <td>4662390</td>\n",
       "      <td>1867568.034</td>\n",
       "      <td>5.510573e+09</td>\n",
       "      <td>9025222.084</td>\n",
       "    </tr>\n",
       "    <tr>\n",
       "      <th>Netherlands</th>\n",
       "      <td>200361</td>\n",
       "      <td>6247.730</td>\n",
       "      <td>3.402037e+07</td>\n",
       "      <td>285446.340</td>\n",
       "    </tr>\n",
       "    <tr>\n",
       "      <th>EIRE</th>\n",
       "      <td>147173</td>\n",
       "      <td>38489.950</td>\n",
       "      <td>1.066949e+08</td>\n",
       "      <td>283453.960</td>\n",
       "    </tr>\n",
       "    <tr>\n",
       "      <th>Germany</th>\n",
       "      <td>119261</td>\n",
       "      <td>33532.140</td>\n",
       "      <td>1.143471e+08</td>\n",
       "      <td>228867.140</td>\n",
       "    </tr>\n",
       "    <tr>\n",
       "      <th>France</th>\n",
       "      <td>112103</td>\n",
       "      <td>36992.790</td>\n",
       "      <td>1.057506e+08</td>\n",
       "      <td>209715.110</td>\n",
       "    </tr>\n",
       "  </tbody>\n",
       "</table>\n",
       "</div>"
      ],
      "text/plain": [
       "                Quantity    UnitPrice    CustomerID   totalPrice\n",
       "Country                                                         \n",
       "United Kingdom   4662390  1867568.034  5.510573e+09  9025222.084\n",
       "Netherlands       200361     6247.730  3.402037e+07   285446.340\n",
       "EIRE              147173    38489.950  1.066949e+08   283453.960\n",
       "Germany           119261    33532.140  1.143471e+08   228867.140\n",
       "France            112103    36992.790  1.057506e+08   209715.110"
      ]
     },
     "execution_count": 141,
     "metadata": {},
     "output_type": "execute_result"
    }
   ],
   "source": [
    "\n",
    "agrupamentoPais = df.groupby('Country').sum().sort_values('totalPrice',ascending=False)\n",
    "agrupamentoPais.head(5)\n"
   ]
  },
  {
   "cell_type": "code",
   "execution_count": 128,
   "id": "38672502",
   "metadata": {
    "scrolled": true
   },
   "outputs": [
    {
     "data": {
      "text/plain": [
       "United Kingdom    485123\n",
       "Germany             9040\n",
       "France              8407\n",
       "EIRE                7890\n",
       "Spain               2484\n",
       "Netherlands         2359\n",
       "Belgium             2031\n",
       "Switzerland         1966\n",
       "Portugal            1501\n",
       "Australia           1182\n",
       "Name: Country, dtype: int64"
      ]
     },
     "execution_count": 128,
     "metadata": {},
     "output_type": "execute_result"
    }
   ],
   "source": [
    "comprasPorPais = df['Country'].value_counts()\n",
    "comprasPorPais[0:10]"
   ]
  },
  {
   "cell_type": "markdown",
   "id": "eeece59c",
   "metadata": {},
   "source": [
    "<h4> Faturamentos por país"
   ]
  },
  {
   "cell_type": "code",
   "execution_count": 143,
   "id": "af034231",
   "metadata": {},
   "outputs": [
    {
     "data": {
      "image/png": "[encoded data removed]",
      "text/plain": [
       "<Figure size 720x360 with 1 Axes>"
      ]
     },
     "metadata": {
      "needs_background": "light"
     },
     "output_type": "display_data"
    }
   ],
   "source": [
    "fig = plt.figure(figsize=(10, 5))\n",
    "\n",
    "\n",
    "agrupamentoPais['totalPrice'].plot.bar()\n",
    "plt.ylabel(\"Faturamento total\")\n",
    "plt.xlabel(\"Paises\")\n",
    "plt.yscale('log')\n",
    "plt.title(\"Paises e seus faturamentos\")\n",
    "plt.show()"
   ]
  },
  {
   "cell_type": "markdown",
   "id": "7e121c44",
   "metadata": {},
   "source": [
    "<h4> Gráfico de quantidade de compras por países"
   ]
  },
  {
   "cell_type": "code",
   "execution_count": 134,
   "id": "dd4999d5",
   "metadata": {
    "scrolled": false
   },
   "outputs": [
    {
     "data": {
      "image/png": "[encoded data removed]",
      "text/plain": [
       "<Figure size 720x360 with 1 Axes>"
      ]
     },
     "metadata": {
      "needs_background": "light"
     },
     "output_type": "display_data"
    }
   ],
   "source": [
    "fig = plt.figure(figsize=(10, 5))\n",
    "\n",
    "\n",
    "comprasPorPais.plot.bar()\n",
    "plt.ylabel(\"Quantidade de compras\")\n",
    "plt.xlabel(\"Paises\")\n",
    "plt.yscale('log')\n",
    "plt.title(\"Paises e seus números de compras\")\n",
    "plt.show()"
   ]
  },
  {
   "cell_type": "markdown",
   "id": "ed2ca4ef",
   "metadata": {},
   "source": [
    "<h3> Adaptação 1 - Correção Estela"
   ]
  },
  {
   "cell_type": "code",
   "execution_count": 8,
   "id": "9f86c8fd",
   "metadata": {},
   "outputs": [
    {
     "data": {
      "image/png": "[encoded data removed]",
      "text/plain": [
       "<Figure size 720x360 with 1 Axes>"
      ]
     },
     "metadata": {
      "needs_background": "light"
     },
     "output_type": "display_data"
    }
   ],
   "source": [
    "agrupandoPaises = df.groupby(\"Country\").sum()\n",
    "fig = plt.figure(figsize=(10, 5))\n",
    "\n",
    "\n",
    "agrupandoPaises['totalPrice'].plot.barh()\n",
    "plt.ylabel(\"Faturamento total\")\n",
    "plt.xlabel(\"Paises\")\n",
    "plt.xscale('log')\n",
    "plt.title(\"Paises e seus faturamentos\")\n",
    "plt.show()"
   ]
  },
  {
   "cell_type": "code",
   "execution_count": 5,
   "id": "e73fbfec",
   "metadata": {},
   "outputs": [
    {
     "data": {
      "image/png": "[encoded data removed]",
      "text/plain": [
       "<Figure size 720x720 with 1 Axes>"
      ]
     },
     "metadata": {
      "needs_background": "light"
     },
     "output_type": "display_data"
    }
   ],
   "source": [
    "agrupandoPaises = df.groupby(\"Country\")[\"InvoiceNo\"].nunique()\n",
    "\n",
    "fig = plt.figure(figsize=(10, 10))\n",
    "\n",
    "\n",
    "agrupandoPaises.plot.barh()\n",
    "plt.ylabel(\"Faturamento total\")\n",
    "plt.xlabel(\"Paises\")\n",
    "plt.xscale('log')\n",
    "plt.title(\"Paises e seus faturamentos\")\n",
    "plt.show()"
   ]
  },
  {
   "cell_type": "markdown",
   "id": "f7d70aeb",
   "metadata": {},
   "source": [
    "<h2> 6. Considerando os 100 produtos mais vendidos, é possível visualizar\n",
    "alguma diferença entre a distribuição dos preços unitários desses produtos\n",
    "ao se comparar os países “Australia” e “United Kingdom”? Faça um ou mais\n",
    "gráficos para ajudar a responder.\n"
   ]
  },
  {
   "cell_type": "code",
   "execution_count": 207,
   "id": "465342e8",
   "metadata": {
    "scrolled": true
   },
   "outputs": [
    {
     "data": {
      "text/plain": [
       "Index([   23843,    23166,    22197,    84077, '85099B', '85123A',    84879,\n",
       "          21212,    23084,    22492,    22616,    21977,    22178,    15036,\n",
       "          17003,    21915,    22386,    23203,    20725,    22086,    84946,\n",
       "          47566,    84991,    22355,    22469,    20724, '85099F',    84755,\n",
       "          22961,    22693,    22952,    21213,    22151,    23199,    21790,\n",
       "          22629,    21731, '85099C',    84568,    22423,    21931,    71459,\n",
       "          23201,    84992,    16014,    20719,    21080,    23209,    20668,\n",
       "          22993,    22411,    22383,    22969,    84978,    22998,    21975,\n",
       "          21181,    20727,    21175,    23206,    23307,    23310,    21232,\n",
       "          20728,    22630,    21137,    22659,    20713,    21929,    20971,\n",
       "          23202,    22577,    22910,    21326,    84945,    21498,    22384,\n",
       "          21928,    22382,    22578,    23077,    21166,    84212,    23344,\n",
       "          79321,    21108,    20726,    22470,    22699,    20723,    20712,\n",
       "          22489,    22356,    22610,    84347,    21703,    22077,    22457,\n",
       "          22988,    82482],\n",
       "      dtype='object', name='StockCode')"
      ]
     },
     "execution_count": 207,
     "metadata": {},
     "output_type": "execute_result"
    }
   ],
   "source": [
    "maisVendidos = df.groupby(\"StockCode\").sum().sort_values(['Quantity'], ascending=False)\n",
    "top100 = maisVendidos[0:100]\n",
    "top100.index"
   ]
  },
  {
   "cell_type": "code",
   "execution_count": 220,
   "id": "e165317b",
   "metadata": {},
   "outputs": [],
   "source": [
    "Australia = {}\n",
    "UK = {}\n",
    "for i in top100.index:\n",
    "    Australia[i] = df[(df[\"StockCode\"] == i) & (df['Country'] == \"Australia\")]['UnitPrice'].mean()\n",
    "    UK[i] = df[(df[\"StockCode\"] == i) & (df['Country'] == \"United Kingdom\")]['UnitPrice'].mean()"
   ]
  },
  {
   "cell_type": "code",
   "execution_count": 214,
   "id": "4efd65ab",
   "metadata": {
    "scrolled": true
   },
   "outputs": [
    {
     "data": {
      "text/plain": [
       "1.0574943566591422"
      ]
     },
     "execution_count": 214,
     "metadata": {},
     "output_type": "execute_result"
    }
   ],
   "source": [
    "#Formula individual para obter o preço médio de um só valor\n",
    "df[(df[\"StockCode\"] == 22197) & ((df['Country'] == \"Australia\")|(df['Country'] == \"United Kingdom\"))]['UnitPrice'].mean()"
   ]
  },
  {
   "cell_type": "markdown",
   "id": "9f1d22bc",
   "metadata": {},
   "source": [
    "<h4> Plotagem dos preços médios dos produtos mais vendidos no Reino Unido"
   ]
  },
  {
   "cell_type": "code",
   "execution_count": 232,
   "id": "570e0ff3",
   "metadata": {},
   "outputs": [
    {
     "data": {
      "image/png": "[encoded data removed]",
      "text/plain": [
       "<Figure size 720x360 with 1 Axes>"
      ]
     },
     "metadata": {
      "needs_background": "light"
     },
     "output_type": "display_data"
    }
   ],
   "source": [
    "fig = plt.figure(figsize=(10, 5))\n",
    "\n",
    "plt.bar(range(len(UK)), UK.values(), align='center')\n",
    "plt.xticks(range(len(UK)), list(UK.keys()))\n",
    "plt.xticks([])\n",
    "plt.show()"
   ]
  },
  {
   "cell_type": "markdown",
   "id": "5cb684d7",
   "metadata": {},
   "source": [
    "<h4> Plotagem dos preços médios dos produtos mais vendidos na Austrália"
   ]
  },
  {
   "cell_type": "code",
   "execution_count": 238,
   "id": "b653a6f7",
   "metadata": {
    "scrolled": true
   },
   "outputs": [
    {
     "data": {
      "image/png": "[encoded data removed]",
      "text/plain": [
       "<Figure size 720x360 with 1 Axes>"
      ]
     },
     "metadata": {
      "needs_background": "light"
     },
     "output_type": "display_data"
    }
   ],
   "source": [
    "fig = plt.figure(figsize=(10, 5))\n",
    "\n",
    "#Obs: Os valores que estão em 0 não são vendidos na Austrália\n",
    "plt.bar(range(len(Australia)), Australia.values(), align='center')\n",
    "plt.xticks(range(len(Australia)), list(Australia.keys()))\n",
    "plt.xticks([])\n",
    "plt.show()"
   ]
  },
  {
   "cell_type": "markdown",
   "id": "9cccc816",
   "metadata": {},
   "source": [
    "<p> Podemos concluir que na Austrália, o preço médios dos produtos é mais barato que no Reino Unido"
   ]
  },
  {
   "cell_type": "markdown",
   "id": "4130de45",
   "metadata": {},
   "source": [
    "<h2> CORREÇÃO"
   ]
  },
  {
   "cell_type": "markdown",
   "id": "bfdd561b",
   "metadata": {},
   "source": [
    "<h3> Exercício 1"
   ]
  },
  {
   "cell_type": "code",
   "execution_count": 15,
   "id": "a99314d5",
   "metadata": {},
   "outputs": [
    {
     "data": {
      "text/html": [
       "<div>\n",
       "<style scoped>\n",
       "    .dataframe tbody tr th:only-of-type {\n",
       "        vertical-align: middle;\n",
       "    }\n",
       "\n",
       "    .dataframe tbody tr th {\n",
       "        vertical-align: top;\n",
       "    }\n",
       "\n",
       "    .dataframe thead th {\n",
       "        text-align: right;\n",
       "    }\n",
       "</style>\n",
       "<table border=\"1\" class=\"dataframe\">\n",
       "  <thead>\n",
       "    <tr style=\"text-align: right;\">\n",
       "      <th></th>\n",
       "      <th>InvoiceNo</th>\n",
       "      <th>StockCode</th>\n",
       "      <th>Description</th>\n",
       "      <th>Quantity</th>\n",
       "      <th>InvoiceDate</th>\n",
       "      <th>UnitPrice</th>\n",
       "      <th>CustomerID</th>\n",
       "      <th>Country</th>\n",
       "    </tr>\n",
       "  </thead>\n",
       "  <tbody>\n",
       "    <tr>\n",
       "      <th>0</th>\n",
       "      <td>536365</td>\n",
       "      <td>85123A</td>\n",
       "      <td>WHITE HANGING HEART T-LIGHT HOLDER</td>\n",
       "      <td>6</td>\n",
       "      <td>2010-12-01 08:26:00</td>\n",
       "      <td>2.55</td>\n",
       "      <td>17850.0</td>\n",
       "      <td>United Kingdom</td>\n",
       "    </tr>\n",
       "    <tr>\n",
       "      <th>1</th>\n",
       "      <td>536365</td>\n",
       "      <td>71053</td>\n",
       "      <td>WHITE METAL LANTERN</td>\n",
       "      <td>6</td>\n",
       "      <td>2010-12-01 08:26:00</td>\n",
       "      <td>3.39</td>\n",
       "      <td>17850.0</td>\n",
       "      <td>United Kingdom</td>\n",
       "    </tr>\n",
       "    <tr>\n",
       "      <th>2</th>\n",
       "      <td>536365</td>\n",
       "      <td>84406B</td>\n",
       "      <td>CREAM CUPID HEARTS COAT HANGER</td>\n",
       "      <td>8</td>\n",
       "      <td>2010-12-01 08:26:00</td>\n",
       "      <td>2.75</td>\n",
       "      <td>17850.0</td>\n",
       "      <td>United Kingdom</td>\n",
       "    </tr>\n",
       "    <tr>\n",
       "      <th>3</th>\n",
       "      <td>536365</td>\n",
       "      <td>84029G</td>\n",
       "      <td>KNITTED UNION FLAG HOT WATER BOTTLE</td>\n",
       "      <td>6</td>\n",
       "      <td>2010-12-01 08:26:00</td>\n",
       "      <td>3.39</td>\n",
       "      <td>17850.0</td>\n",
       "      <td>United Kingdom</td>\n",
       "    </tr>\n",
       "    <tr>\n",
       "      <th>4</th>\n",
       "      <td>536365</td>\n",
       "      <td>84029E</td>\n",
       "      <td>RED WOOLLY HOTTIE WHITE HEART.</td>\n",
       "      <td>6</td>\n",
       "      <td>2010-12-01 08:26:00</td>\n",
       "      <td>3.39</td>\n",
       "      <td>17850.0</td>\n",
       "      <td>United Kingdom</td>\n",
       "    </tr>\n",
       "    <tr>\n",
       "      <th>...</th>\n",
       "      <td>...</td>\n",
       "      <td>...</td>\n",
       "      <td>...</td>\n",
       "      <td>...</td>\n",
       "      <td>...</td>\n",
       "      <td>...</td>\n",
       "      <td>...</td>\n",
       "      <td>...</td>\n",
       "    </tr>\n",
       "    <tr>\n",
       "      <th>541221</th>\n",
       "      <td>581495</td>\n",
       "      <td>22633</td>\n",
       "      <td>HAND WARMER UNION JACK</td>\n",
       "      <td>18</td>\n",
       "      <td>2011-12-09 10:20:00</td>\n",
       "      <td>2.10</td>\n",
       "      <td>14051.0</td>\n",
       "      <td>United Kingdom</td>\n",
       "    </tr>\n",
       "    <tr>\n",
       "      <th>541320</th>\n",
       "      <td>581497</td>\n",
       "      <td>84029G</td>\n",
       "      <td>KNITTED UNION FLAG HOT WATER BOTTLE</td>\n",
       "      <td>11</td>\n",
       "      <td>2011-12-09 10:23:00</td>\n",
       "      <td>8.29</td>\n",
       "      <td>NaN</td>\n",
       "      <td>United Kingdom</td>\n",
       "    </tr>\n",
       "    <tr>\n",
       "      <th>541520</th>\n",
       "      <td>581498</td>\n",
       "      <td>84029E</td>\n",
       "      <td>RED WOOLLY HOTTIE WHITE HEART.</td>\n",
       "      <td>4</td>\n",
       "      <td>2011-12-09 10:26:00</td>\n",
       "      <td>8.29</td>\n",
       "      <td>NaN</td>\n",
       "      <td>United Kingdom</td>\n",
       "    </tr>\n",
       "    <tr>\n",
       "      <th>541619</th>\n",
       "      <td>581516</td>\n",
       "      <td>84029G</td>\n",
       "      <td>KNITTED UNION FLAG HOT WATER BOTTLE</td>\n",
       "      <td>8</td>\n",
       "      <td>2011-12-09 11:26:00</td>\n",
       "      <td>4.25</td>\n",
       "      <td>14422.0</td>\n",
       "      <td>United Kingdom</td>\n",
       "    </tr>\n",
       "    <tr>\n",
       "      <th>541875</th>\n",
       "      <td>581585</td>\n",
       "      <td>84879</td>\n",
       "      <td>ASSORTED COLOUR BIRD ORNAMENT</td>\n",
       "      <td>16</td>\n",
       "      <td>2011-12-09 12:31:00</td>\n",
       "      <td>1.69</td>\n",
       "      <td>15804.0</td>\n",
       "      <td>United Kingdom</td>\n",
       "    </tr>\n",
       "  </tbody>\n",
       "</table>\n",
       "<p>6372 rows × 8 columns</p>\n",
       "</div>"
      ],
      "text/plain": [
       "       InvoiceNo StockCode                          Description  Quantity  \\\n",
       "0         536365    85123A   WHITE HANGING HEART T-LIGHT HOLDER         6   \n",
       "1         536365     71053                  WHITE METAL LANTERN         6   \n",
       "2         536365    84406B       CREAM CUPID HEARTS COAT HANGER         8   \n",
       "3         536365    84029G  KNITTED UNION FLAG HOT WATER BOTTLE         6   \n",
       "4         536365    84029E       RED WOOLLY HOTTIE WHITE HEART.         6   \n",
       "...          ...       ...                                  ...       ...   \n",
       "541221    581495     22633               HAND WARMER UNION JACK        18   \n",
       "541320    581497    84029G  KNITTED UNION FLAG HOT WATER BOTTLE        11   \n",
       "541520    581498    84029E       RED WOOLLY HOTTIE WHITE HEART.         4   \n",
       "541619    581516    84029G  KNITTED UNION FLAG HOT WATER BOTTLE         8   \n",
       "541875    581585     84879        ASSORTED COLOUR BIRD ORNAMENT        16   \n",
       "\n",
       "               InvoiceDate  UnitPrice  CustomerID         Country  \n",
       "0      2010-12-01 08:26:00       2.55     17850.0  United Kingdom  \n",
       "1      2010-12-01 08:26:00       3.39     17850.0  United Kingdom  \n",
       "2      2010-12-01 08:26:00       2.75     17850.0  United Kingdom  \n",
       "3      2010-12-01 08:26:00       3.39     17850.0  United Kingdom  \n",
       "4      2010-12-01 08:26:00       3.39     17850.0  United Kingdom  \n",
       "...                    ...        ...         ...             ...  \n",
       "541221 2011-12-09 10:20:00       2.10     14051.0  United Kingdom  \n",
       "541320 2011-12-09 10:23:00       8.29         NaN  United Kingdom  \n",
       "541520 2011-12-09 10:26:00       8.29         NaN  United Kingdom  \n",
       "541619 2011-12-09 11:26:00       4.25     14422.0  United Kingdom  \n",
       "541875 2011-12-09 12:31:00       1.69     15804.0  United Kingdom  \n",
       "\n",
       "[6372 rows x 8 columns]"
      ]
     },
     "execution_count": 15,
     "metadata": {},
     "output_type": "execute_result"
    }
   ],
   "source": [
    "produtos = df[df.Description.isin(df.head(10).Description)]\n",
    "produtos"
   ]
  },
  {
   "cell_type": "code",
   "execution_count": 16,
   "id": "c70be7cb",
   "metadata": {
    "scrolled": true
   },
   "outputs": [
    {
     "data": {
      "image/png": "[encoded data removed]",
      "text/plain": [
       "<Figure size 432x288 with 1 Axes>"
      ]
     },
     "metadata": {
      "needs_background": "light"
     },
     "output_type": "display_data"
    }
   ],
   "source": [
    "produtos = produtos.groupby(\"Description\")\n",
    "produtosSoma = produtos.sum()\n",
    "\n",
    "produtosSoma['Quantity'].plot(kind='bar')\n",
    "plt.yscale('log')\n",
    "plt.show()"
   ]
  },
  {
   "cell_type": "markdown",
   "id": "ab0bc17c",
   "metadata": {},
   "source": [
    "<h2> Exercício 2"
   ]
  },
  {
   "cell_type": "code",
   "execution_count": 21,
   "id": "65364925",
   "metadata": {},
   "outputs": [
    {
     "data": {
      "text/html": [
       "<div>\n",
       "<style scoped>\n",
       "    .dataframe tbody tr th:only-of-type {\n",
       "        vertical-align: middle;\n",
       "    }\n",
       "\n",
       "    .dataframe tbody tr th {\n",
       "        vertical-align: top;\n",
       "    }\n",
       "\n",
       "    .dataframe thead th {\n",
       "        text-align: right;\n",
       "    }\n",
       "</style>\n",
       "<table border=\"1\" class=\"dataframe\">\n",
       "  <thead>\n",
       "    <tr style=\"text-align: right;\">\n",
       "      <th></th>\n",
       "      <th>Description</th>\n",
       "      <th>Quantity</th>\n",
       "      <th>UnitPrice</th>\n",
       "      <th>CustomerID</th>\n",
       "    </tr>\n",
       "  </thead>\n",
       "  <tbody>\n",
       "    <tr>\n",
       "      <th>0</th>\n",
       "      <td>4 PURPLE FLOCK DINNER CANDLES</td>\n",
       "      <td>144</td>\n",
       "      <td>100.67</td>\n",
       "      <td>631941.0</td>\n",
       "    </tr>\n",
       "    <tr>\n",
       "      <th>1</th>\n",
       "      <td>50'S CHRISTMAS GIFT BAG LARGE</td>\n",
       "      <td>1915</td>\n",
       "      <td>184.03</td>\n",
       "      <td>1673997.0</td>\n",
       "    </tr>\n",
       "    <tr>\n",
       "      <th>2</th>\n",
       "      <td>DOLLY GIRL BEAKER</td>\n",
       "      <td>2455</td>\n",
       "      <td>268.88</td>\n",
       "      <td>2045940.0</td>\n",
       "    </tr>\n",
       "    <tr>\n",
       "      <th>3</th>\n",
       "      <td>I LOVE LONDON MINI BACKPACK</td>\n",
       "      <td>389</td>\n",
       "      <td>405.80</td>\n",
       "      <td>1089559.0</td>\n",
       "    </tr>\n",
       "    <tr>\n",
       "      <th>4</th>\n",
       "      <td>I LOVE LONDON MINI RUCKSACK</td>\n",
       "      <td>1</td>\n",
       "      <td>4.15</td>\n",
       "      <td>14646.0</td>\n",
       "    </tr>\n",
       "    <tr>\n",
       "      <th>...</th>\n",
       "      <td>...</td>\n",
       "      <td>...</td>\n",
       "      <td>...</td>\n",
       "      <td>...</td>\n",
       "    </tr>\n",
       "    <tr>\n",
       "      <th>4021</th>\n",
       "      <td>ZINC T-LIGHT HOLDER STARS SMALL</td>\n",
       "      <td>5089</td>\n",
       "      <td>259.51</td>\n",
       "      <td>3609454.0</td>\n",
       "    </tr>\n",
       "    <tr>\n",
       "      <th>4022</th>\n",
       "      <td>ZINC TOP  2 DOOR WOODEN SHELF</td>\n",
       "      <td>13</td>\n",
       "      <td>253.13</td>\n",
       "      <td>134854.0</td>\n",
       "    </tr>\n",
       "    <tr>\n",
       "      <th>4023</th>\n",
       "      <td>ZINC WILLIE WINKIE  CANDLE STICK</td>\n",
       "      <td>2934</td>\n",
       "      <td>296.47</td>\n",
       "      <td>2921778.0</td>\n",
       "    </tr>\n",
       "    <tr>\n",
       "      <th>4024</th>\n",
       "      <td>ZINC WIRE KITCHEN ORGANISER</td>\n",
       "      <td>30</td>\n",
       "      <td>158.87</td>\n",
       "      <td>184341.0</td>\n",
       "    </tr>\n",
       "    <tr>\n",
       "      <th>4025</th>\n",
       "      <td>ZINC WIRE SWEETHEART LETTER TRAY</td>\n",
       "      <td>83</td>\n",
       "      <td>91.46</td>\n",
       "      <td>316155.0</td>\n",
       "    </tr>\n",
       "  </tbody>\n",
       "</table>\n",
       "<p>4026 rows × 4 columns</p>\n",
       "</div>"
      ],
      "text/plain": [
       "                           Description  Quantity  UnitPrice  CustomerID\n",
       "0        4 PURPLE FLOCK DINNER CANDLES       144     100.67    631941.0\n",
       "1        50'S CHRISTMAS GIFT BAG LARGE      1915     184.03   1673997.0\n",
       "2                    DOLLY GIRL BEAKER      2455     268.88   2045940.0\n",
       "3          I LOVE LONDON MINI BACKPACK       389     405.80   1089559.0\n",
       "4          I LOVE LONDON MINI RUCKSACK         1       4.15     14646.0\n",
       "...                                ...       ...        ...         ...\n",
       "4021   ZINC T-LIGHT HOLDER STARS SMALL      5089     259.51   3609454.0\n",
       "4022    ZINC TOP  2 DOOR WOODEN SHELF         13     253.13    134854.0\n",
       "4023  ZINC WILLIE WINKIE  CANDLE STICK      2934     296.47   2921778.0\n",
       "4024       ZINC WIRE KITCHEN ORGANISER        30     158.87    184341.0\n",
       "4025  ZINC WIRE SWEETHEART LETTER TRAY        83      91.46    316155.0\n",
       "\n",
       "[4026 rows x 4 columns]"
      ]
     },
     "execution_count": 21,
     "metadata": {},
     "output_type": "execute_result"
    }
   ],
   "source": [
    "totalVendas = df.groupby('Description').sum().reset_index()\n",
    "totalVendas"
   ]
  },
  {
   "cell_type": "code",
   "execution_count": null,
   "id": "619d66e7",
   "metadata": {},
   "outputs": [],
   "source": [
    "preco = totalVendas."
   ]
  },
  {
   "cell_type": "markdown",
   "id": "a893f8d4",
   "metadata": {},
   "source": [
    "<h3> Exercício 6"
   ]
  },
  {
   "cell_type": "code",
   "execution_count": null,
   "id": "18b9ca0e",
   "metadata": {},
   "outputs": [],
   "source": []
  }
 ],
 "metadata": {
  "kernelspec": {
   "display_name": "data_science",
   "language": "python",
   "name": "data_science"
  },
  "language_info": {
   "codemirror_mode": {
    "name": "ipython",
    "version": 3
   },
   "file_extension": ".py",
   "mimetype": "text/x-python",
   "name": "python",
   "nbconvert_exporter": "python",
   "pygments_lexer": "ipython3",
   "version": "3.9.6"
  }
 },
 "nbformat": 4,
 "nbformat_minor": 5
}

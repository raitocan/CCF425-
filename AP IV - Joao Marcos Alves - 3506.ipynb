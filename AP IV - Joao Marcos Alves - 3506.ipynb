{
 "cells": [
  {
   "cell_type": "markdown",
   "id": "06238ba0",
   "metadata": {},
   "source": [
    "<h3> Nome: João Marcos Alves Modesto Ramos\n",
    "    \n",
    "<h3> Matrícula: 3506"
   ]
  },
  {
   "cell_type": "markdown",
   "id": "d991df94",
   "metadata": {},
   "source": [
    "<h2> Enunciado"
   ]
  },
  {
   "cell_type": "markdown",
   "id": "cac64383",
   "metadata": {},
   "source": [
    "<p> 1. Você foi alocado no trabalho para decidir sobre qual protocolo de\n",
    "comunicação utilizar para a infraestrutura de IoT que será implantada na sua\n",
    "empresa. As duas opções são os protocolos IA171 e o IE666. O principal\n",
    "    critério para a sua empresa é o <b>atraso na transmissão</b>. Então, você\n",
    "implementa os dois protocolos em um simulador de redes e coleta 100\n",
    "valores de atrasos de transmissão para cada protocolo. Com base nesses\n",
    "valores, você deve decidir qual protocolo utilizar. Faça a análise desses\n",
    "resultados e elabore uma justificativa plausível e quantitativa para a\n",
    "utilização de um ou outro protocolo, ou se não há diferença significativa que\n",
    "indique que um protocolo é melhor que o outro. Os resultados de atrasos\n",
    "estão em milissegundos nos arquivos atraso_ia171.csv atraso_ie666.csv. A\n",
    "empresa espera que você tenha uma confiança de 95% em sua decisão"
   ]
  },
  {
   "cell_type": "code",
   "execution_count": 1,
   "id": "d0a3c941",
   "metadata": {},
   "outputs": [],
   "source": [
    "import pandas as pd\n",
    "\n",
    "path = \"../Atividades/Atividade 4/\""
   ]
  },
  {
   "cell_type": "markdown",
   "id": "138014bd",
   "metadata": {},
   "source": [
    "<h3> Lendo os arquivos"
   ]
  },
  {
   "cell_type": "code",
   "execution_count": 2,
   "id": "f6f5a83a",
   "metadata": {
    "scrolled": true
   },
   "outputs": [
    {
     "data": {
      "text/plain": [
       "0     511.28\n",
       "1     494.68\n",
       "2     507.27\n",
       "3     461.34\n",
       "4     464.77\n",
       "       ...  \n",
       "95    545.39\n",
       "96    496.13\n",
       "97    504.65\n",
       "98    512.12\n",
       "99    485.72\n",
       "Name: 0, Length: 100, dtype: float64"
      ]
     },
     "metadata": {},
     "output_type": "display_data"
    }
   ],
   "source": [
    "IA171 = pd.read_csv(path+\"/atraso_ia171.csv\",index_col=False,header=None,squeeze=True)\n",
    "display(IA171)"
   ]
  },
  {
   "cell_type": "code",
   "execution_count": 3,
   "id": "f586af67",
   "metadata": {},
   "outputs": [
    {
     "data": {
      "text/plain": [
       "0     278.03\n",
       "1     135.09\n",
       "2     196.68\n",
       "3     258.81\n",
       "4     230.07\n",
       "       ...  \n",
       "95    191.78\n",
       "96    238.73\n",
       "97    176.90\n",
       "98    122.68\n",
       "99    234.77\n",
       "Name: 0, Length: 100, dtype: float64"
      ]
     },
     "metadata": {},
     "output_type": "display_data"
    }
   ],
   "source": [
    "IE666 = pd.read_csv(path+\"/atraso_ie666.csv\",index_col=False,header=None,squeeze=True)\n",
    "display(IE666)"
   ]
  },
  {
   "cell_type": "markdown",
   "id": "3e0faccd",
   "metadata": {},
   "source": [
    "<h3> Calculando as métricas para cada arquivo."
   ]
  },
  {
   "cell_type": "code",
   "execution_count": 4,
   "id": "7e5aa5e6",
   "metadata": {},
   "outputs": [
    {
     "data": {
      "text/plain": [
       "count    100.000000\n",
       "mean     500.230600\n",
       "std       23.901383\n",
       "min      424.770000\n",
       "25%      483.540000\n",
       "50%      503.905000\n",
       "75%      516.222500\n",
       "max      558.330000\n",
       "Name: 0, dtype: float64"
      ]
     },
     "execution_count": 4,
     "metadata": {},
     "output_type": "execute_result"
    }
   ],
   "source": [
    "#Calculando a média de cada protocolo\n",
    "IA171.describe()"
   ]
  },
  {
   "cell_type": "code",
   "execution_count": 5,
   "id": "a6772dd1",
   "metadata": {},
   "outputs": [
    {
     "data": {
      "text/plain": [
       "count    100.000000\n",
       "mean     186.781500\n",
       "std       53.278042\n",
       "min       54.960000\n",
       "25%      154.040000\n",
       "50%      178.895000\n",
       "75%      230.262500\n",
       "max      317.690000\n",
       "Name: 0, dtype: float64"
      ]
     },
     "execution_count": 5,
     "metadata": {},
     "output_type": "execute_result"
    }
   ],
   "source": [
    "IE666.describe()"
   ]
  },
  {
   "cell_type": "markdown",
   "id": "db212d72",
   "metadata": {},
   "source": [
    "<h3> Formulando um hipótese"
   ]
  },
  {
   "cell_type": "markdown",
   "id": "5f3f965c",
   "metadata": {},
   "source": [
    "<b> Hipótese nula: </b> O atraso do protocolo IA171 não é tão significativo ao IE666\n",
    "\n",
    "<b> Hipótese alternativa: </b> O atraso do protocolo IA171 É BEM SIGNFICATIVO ao ponto da escolha do IE666 ser a melhor\n",
    "\n",
    "<b> Limiar </b> : 0.95"
   ]
  },
  {
   "cell_type": "markdown",
   "id": "8e4b9135",
   "metadata": {},
   "source": [
    "<p> Para obtermos os resultados, iremos calcular o erro padrão entre duas médias, a formula se resume em:"
   ]
  },
  {
   "cell_type": "code",
   "execution_count": 6,
   "id": "3251b788",
   "metadata": {},
   "outputs": [
    {
     "name": "stdout",
     "output_type": "stream",
     "text": [
      "Erro padrão entre as médias: 53.68\n",
      "Diferença entra as médias: 313.45\n"
     ]
    }
   ],
   "source": [
    "from math import sqrt\n",
    "\n",
    "mediaA = IA171.mean()\n",
    "desvioA = IA171.std()\n",
    "mediaB = IE666.mean()\n",
    "desvioB = IE666.std()\n",
    "numerador = mediaA - mediaB\n",
    "denominador = sqrt((pow(desvioA,2)/IA171.size)+(pow(desvioB,2)/IE666.size))\n",
    "erroPadrao = numerador / denominador\n",
    "print(\"Erro padrão entre as médias: \"+format(erroPadrao,\".2f\"))\n",
    "print(\"Diferença entra as médias: \"+format(numerador,\".2f\"))"
   ]
  },
  {
   "cell_type": "markdown",
   "id": "39067a7e",
   "metadata": {},
   "source": [
    "<p> Para obtermos uma confiabilidade de 95%, o valor precisa estar 3 erros padrões da média"
   ]
  },
  {
   "cell_type": "code",
   "execution_count": 7,
   "id": "72063534",
   "metadata": {},
   "outputs": [
    {
     "name": "stdout",
     "output_type": "stream",
     "text": [
      "O valor A está vai de 392.87 até 607.59 desvios padrões da média\n",
      "O valor B está vai de 79.42 até 294.14 desvios padrões da média\n"
     ]
    }
   ],
   "source": [
    "\n",
    "print(\"O valor A está vai de \"+format(mediaA-(2*erroPadrao),\".2f\")+\" até \"+format(mediaA+(2*erroPadrao),\".2f\")+\" desvios padrões da média\")\n",
    "print(\"O valor B está vai de \"+format(mediaB-(2*erroPadrao),\".2f\")+\" até \"+format(mediaB+(2*erroPadrao),\".2f\")+\" desvios padrões da média\")\n"
   ]
  },
  {
   "cell_type": "markdown",
   "id": "ddb1e63f",
   "metadata": {},
   "source": [
    "<p> Como os intervalos de confiança não se sobrepoem, provamos que portanto, a nossa hipótese nula é provavelmente falsa, e nossa hipótese alternativa é bem provável. Isso quer dizer que IEE6 é provavelmente bem melhor, com 95% de confiança"
   ]
  },
  {
   "cell_type": "markdown",
   "id": "de3f7672",
   "metadata": {},
   "source": [
    "<H3> Confirmando claculando o p-value"
   ]
  },
  {
   "cell_type": "code",
   "execution_count": 8,
   "id": "0139b992",
   "metadata": {},
   "outputs": [
    {
     "name": "stdout",
     "output_type": "stream",
     "text": [
      "A diferença da média entre as duas amostras é: 313.45\n",
      "O erro padrão é de: 53.68\n",
      "A razão dessa diferença é de :5.84\n",
      "Portanto, este valor está a mais de 5 erros de distância, tornando a hipótese nula invalidada\n"
     ]
    }
   ],
   "source": [
    "print(\"A diferença da média entre as duas amostras é: \"+format(numerador,\".2f\"))\n",
    "print(\"O erro padrão é de: \"+format(erroPadrao,\".2f\"))\n",
    "print(\"A razão dessa diferença é de :\"+format(numerador/erroPadrao,\".2f\"))\n",
    "print(\"Portanto, este valor está a mais de 5 erros de distância, tornando a hipótese nula invalidada\")"
   ]
  },
  {
   "cell_type": "markdown",
   "id": "d7f18c69",
   "metadata": {},
   "source": [
    "<h2> Enunciado 2"
   ]
  },
  {
   "cell_type": "markdown",
   "id": "33e96b50",
   "metadata": {},
   "source": [
    "<p> 2. Você precisa implementar um algoritmo para calcular todas as\n",
    "possibilidades de senhas existentes considerando somente números e letras,\n",
    "de no máximo tamanho 8. Como um bom aluno que você é, você pesquisa\n",
    "no Google e encontra duas implementações prontas: CombNar e BitComb.\n",
    "Você então prepara vários testes para comparar os dois algoritmos em\n",
    "termos do tempo de execução em segundos. Os resultados de 100\n",
    "execuções de cada algoritmo estão armazenados nos arquivos\n",
    "tempo_combinar.csv e tempo_bitcomb.csv. Com base nesses resultados,\n",
    "qual dos dois algoritmos você escolhe? Justifique sua resposta"
   ]
  },
  {
   "cell_type": "code",
   "execution_count": 9,
   "id": "085a733d",
   "metadata": {},
   "outputs": [
    {
     "data": {
      "text/plain": [
       "0      8.82\n",
       "1      9.63\n",
       "2     11.28\n",
       "3     13.46\n",
       "4      5.27\n",
       "      ...  \n",
       "95     3.39\n",
       "96    14.67\n",
       "97     4.94\n",
       "98    18.40\n",
       "99     5.19\n",
       "Name: 0, Length: 100, dtype: float64"
      ]
     },
     "metadata": {},
     "output_type": "display_data"
    }
   ],
   "source": [
    "combNar = pd.read_csv(path+\"/tempo_combinar.csv\",index_col=False,header=None,squeeze=True)\n",
    "display(combNar)"
   ]
  },
  {
   "cell_type": "code",
   "execution_count": 10,
   "id": "c94669ba",
   "metadata": {},
   "outputs": [
    {
     "data": {
      "text/plain": [
       "0     11.92\n",
       "1      8.52\n",
       "2      3.56\n",
       "3      8.25\n",
       "4      9.39\n",
       "      ...  \n",
       "95     9.33\n",
       "96     8.28\n",
       "97    13.63\n",
       "98     9.08\n",
       "99     9.62\n",
       "Name: 0, Length: 100, dtype: float64"
      ]
     },
     "metadata": {},
     "output_type": "display_data"
    }
   ],
   "source": [
    "bitComb = pd.read_csv(path+\"/tempo_bitcomb.csv\",index_col=False,header=None,squeeze=True)\n",
    "display(bitComb)"
   ]
  },
  {
   "cell_type": "markdown",
   "id": "7d71c006",
   "metadata": {},
   "source": [
    "<h3> Calculando as métricas"
   ]
  },
  {
   "cell_type": "code",
   "execution_count": 11,
   "id": "3ec4f9d4",
   "metadata": {},
   "outputs": [
    {
     "data": {
      "text/plain": [
       "count    100.000000\n",
       "mean       9.540900\n",
       "std        3.956263\n",
       "min       -2.150000\n",
       "25%        7.682500\n",
       "50%        9.250000\n",
       "75%       12.407500\n",
       "max       18.400000\n",
       "Name: 0, dtype: float64"
      ]
     },
     "execution_count": 11,
     "metadata": {},
     "output_type": "execute_result"
    }
   ],
   "source": [
    "combNar.describe()"
   ]
  },
  {
   "cell_type": "code",
   "execution_count": 12,
   "id": "20177db5",
   "metadata": {},
   "outputs": [
    {
     "data": {
      "text/plain": [
       "count    100.000000\n",
       "mean       8.743500\n",
       "std        3.600244\n",
       "min       -0.070000\n",
       "25%        6.100000\n",
       "50%        8.640000\n",
       "75%       11.382500\n",
       "max       17.200000\n",
       "Name: 0, dtype: float64"
      ]
     },
     "execution_count": 12,
     "metadata": {},
     "output_type": "execute_result"
    }
   ],
   "source": [
    "bitComb.describe()"
   ]
  },
  {
   "cell_type": "markdown",
   "id": "f4981dd4",
   "metadata": {},
   "source": [
    "<h3> Propondo uma hipótese"
   ]
  },
  {
   "cell_type": "markdown",
   "id": "9f8ddc63",
   "metadata": {},
   "source": [
    "<b> Hipótese nula: </b> Existe algum algoritmo que é signficamente melhor que o outro\n",
    "\n",
    "<b> Hipótese alternativa: </b> Ambos algoritmos possuem um bom tempo de execução, e nenhum sobressai o outro.\n",
    "\n",
    "<b> Limiar </b> : 0.95"
   ]
  },
  {
   "cell_type": "markdown",
   "id": "8c2423db",
   "metadata": {},
   "source": [
    "<h4> Transformando em uma função o cálculo acima"
   ]
  },
  {
   "cell_type": "code",
   "execution_count": 13,
   "id": "72892a47",
   "metadata": {},
   "outputs": [
    {
     "name": "stdout",
     "output_type": "stream",
     "text": [
      "Erro padrão entre as médias: 1.49\n",
      "Diferença entra as médias: 0.80\n",
      "O valor A está vai de 6.56 até 12.52 desvios padrões da média\n",
      "O valor B está vai de 5.76 até 11.72 desvios padrões da média\n"
     ]
    }
   ],
   "source": [
    "def calculaErroEntreMedias(conjuntoA,conjuntoB):\n",
    "    mediaA = conjuntoA.mean()\n",
    "    desvioA = conjuntoA.std()\n",
    "    mediaB = conjuntoB.mean()\n",
    "    desvioB = conjuntoB.std()\n",
    "    numerador = mediaA - mediaB\n",
    "    denominador = sqrt((pow(desvioA,2)/IA171.size)+(pow(desvioB,2)/IE666.size))\n",
    "    erroPadrao = numerador / denominador\n",
    "    print(\"Erro padrão entre as médias: \"+format(erroPadrao,\".2f\"))\n",
    "    print(\"Diferença entra as médias: \"+format(numerador,\".2f\"))\n",
    "    desviosA = abs(mediaA - numerador)/erroPadrao\n",
    "    desviosB = abs(mediaB - numerador)/erroPadrao\n",
    "\n",
    "    print(\"O valor A está vai de \"+format(mediaA-(2*erroPadrao),\".2f\")+\" até \"+format(mediaA+(2*erroPadrao),\".2f\")+\" desvios padrões da média\")\n",
    "    print(\"O valor B está vai de \"+format(mediaB-(2*erroPadrao),\".2f\")+\" até \"+format(mediaB+(2*erroPadrao),\".2f\")+\" desvios padrões da média\")\n",
    "\n",
    "    \n",
    "calculaErroEntreMedias(combNar,bitComb)"
   ]
  },
  {
   "cell_type": "markdown",
   "id": "41e086c0",
   "metadata": {},
   "source": [
    "<p> Vemos que, o conjunto do valor A intersecta com o conjunto com o valor B, isso quer dizer que os erros padrões de ambos se intersectam, mostrando que alguns valores podem ser intersectar. Com isso, podemos deduzir que a hipótese nula é provavelmente falsa, pois não há significância suficente no limiar para provar que um determinado algoritmo é melhor que o outro."
   ]
  },
  {
   "cell_type": "markdown",
   "id": "3818bd11",
   "metadata": {},
   "source": [
    "<H3> Confirmando claculando o p-value"
   ]
  },
  {
   "cell_type": "code",
   "execution_count": 14,
   "id": "de6fffe5",
   "metadata": {},
   "outputs": [
    {
     "name": "stdout",
     "output_type": "stream",
     "text": [
      "Erro padrão entre as médias: 1.49\n",
      "Diferença entra as médias: 0.80\n",
      "A razão dessa diferença é de :0.53\n",
      "Portanto, este valor bem próximo, menos de um erro padrão, mostrando que não há diferença significativa\n"
     ]
    }
   ],
   "source": [
    "def calculaErroPValue(conjuntoA,conjuntoB):\n",
    "    mediaA = conjuntoA.mean()\n",
    "    desvioA = conjuntoA.std()\n",
    "    mediaB = conjuntoB.mean()\n",
    "    desvioB = conjuntoB.std()\n",
    "    numerador = mediaA - mediaB\n",
    "    denominador = sqrt((pow(desvioA,2)/IA171.size)+(pow(desvioB,2)/IE666.size))\n",
    "    erroPadrao = numerador / denominador\n",
    "    print(\"Erro padrão entre as médias: \"+format(erroPadrao,\".2f\"))\n",
    "    print(\"Diferença entra as médias: \"+format(numerador,\".2f\"))\n",
    "    print(\"A razão dessa diferença é de :\"+format(numerador/erroPadrao,\".2f\"))\n",
    "    \n",
    "calculaErroPValue(combNar,bitComb)\n",
    "print(\"Portanto, este valor bem próximo, menos de um erro padrão, mostrando que não há diferença significativa\")\n"
   ]
  }
 ],
 "metadata": {
  "kernelspec": {
   "display_name": "data_science",
   "language": "python",
   "name": "data_science"
  },
  "language_info": {
   "codemirror_mode": {
    "name": "ipython",
    "version": 3
   },
   "file_extension": ".py",
   "mimetype": "text/x-python",
   "name": "python",
   "nbconvert_exporter": "python",
   "pygments_lexer": "ipython3",
   "version": "3.9.6"
  }
 },
 "nbformat": 4,
 "nbformat_minor": 5
}

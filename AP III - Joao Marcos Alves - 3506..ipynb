{
 "cells": [
  {
   "cell_type": "markdown",
   "id": "0be6a600",
   "metadata": {},
   "source": [
    "<h2> Ler dados de uma população de pesos (pesos_populacao.csv) e em\n",
    "seguida, fazer as seguintes verificações:"
   ]
  },
  {
   "cell_type": "code",
   "execution_count": 36,
   "id": "a0844ab5",
   "metadata": {},
   "outputs": [],
   "source": [
    "import pandas as pd\n",
    "import matplotlib.pyplot as plt\n",
    "import seaborn as sns\n",
    "import numpy as np\n",
    "\n",
    "path =  \"../Atividades/Atividade 3\"\n"
   ]
  },
  {
   "cell_type": "code",
   "execution_count": 23,
   "id": "7e8bc795",
   "metadata": {},
   "outputs": [
    {
     "data": {
      "text/plain": [
       "0       158.98\n",
       "1       176.40\n",
       "2       148.37\n",
       "3       184.33\n",
       "4       188.31\n",
       "         ...  \n",
       "9995    187.56\n",
       "9996    143.56\n",
       "9997    135.31\n",
       "9998    157.65\n",
       "9999    170.29\n",
       "Name: 0, Length: 10000, dtype: float64"
      ]
     },
     "metadata": {},
     "output_type": "display_data"
    }
   ],
   "source": [
    "pesos = pd.read_csv(path+\"/pesos_populacao.csv\",index_col=False,header=None,squeeze=True)\n",
    "display(renda)"
   ]
  },
  {
   "cell_type": "code",
   "execution_count": 24,
   "id": "0f9301f8",
   "metadata": {},
   "outputs": [],
   "source": [
    "def verificaAmostra(amostra):\n",
    "    mediaPesos = pesos.mean()\n",
    "    mediaAmostra = amostra.mean()\n",
    "    desvioPadraoPesos = pesos.std()\n",
    "    \n",
    "    erroPadrao = desvioPadraoPesos / np.sqrt(amostra.size)\n",
    "    distancia = abs(mediaPesos - mediaAmostra) / erroPadrao\n",
    "    \n",
    "    print(\"Média da amostra :\",format(mediaAmostra,\".2f\"))\n",
    "    print(\"Média da população :\",format(mediaPesos,\".2f\"))\n",
    "    print(\"Erro padrão :\",format(erroPadrao,\".2f\"))\n",
    "    print(\"Distância: \",distancia,\" erros padrão\")"
   ]
  },
  {
   "cell_type": "markdown",
   "id": "2b1fd6d3",
   "metadata": {},
   "source": [
    "<h2> a) Ler dados da amostra de pesos 1 (amostra_pesos1.csv) e verificar se\n",
    "essa amostra foi retirada ou não da população de pesos. Justifique."
   ]
  },
  {
   "cell_type": "code",
   "execution_count": 25,
   "id": "b8a84530",
   "metadata": {},
   "outputs": [
    {
     "data": {
      "text/plain": [
       "0     145.43\n",
       "1     173.47\n",
       "2     168.14\n",
       "3     163.19\n",
       "4     151.58\n",
       "       ...  \n",
       "95    147.93\n",
       "96    172.30\n",
       "97    194.69\n",
       "98    170.92\n",
       "99    185.79\n",
       "Name: 0, Length: 100, dtype: float64"
      ]
     },
     "metadata": {},
     "output_type": "display_data"
    }
   ],
   "source": [
    "amostra1 = pd.read_csv(path+\"/pesos_amostra1.csv\",index_col=False,header=None,squeeze=True)\n",
    "display(amostra1)"
   ]
  },
  {
   "cell_type": "code",
   "execution_count": 26,
   "id": "848c76aa",
   "metadata": {},
   "outputs": [
    {
     "name": "stdout",
     "output_type": "stream",
     "text": [
      "Média da amostra : 161.89\n",
      "Média da população : 161.99\n",
      "Erro padrão : 1.50\n",
      "Distância:  0.06787193856048412  erros padrão\n"
     ]
    }
   ],
   "source": [
    "verificaAmostra(amostra1)"
   ]
  },
  {
   "cell_type": "markdown",
   "id": "a3c4e4ff",
   "metadata": {},
   "source": [
    "<p> Como a distância está há aproximadamente 0,06 erros padrões, isso quer dizer que ele está bem próximo da média, junto com outra parte dos valores da distribuição normal, sendo assim é bem <b>provável</b> que esta amostra foi retirada da população de pesos"
   ]
  },
  {
   "cell_type": "markdown",
   "id": "758a2550",
   "metadata": {},
   "source": [
    "<h2> b) Ler dados da amostra de pesos 2 (amostra_pesos2.csv) e verificar se essa amostra foi retirada ou não da população de pesos. Justifique."
   ]
  },
  {
   "cell_type": "code",
   "execution_count": 27,
   "id": "318a1ee1",
   "metadata": {},
   "outputs": [
    {
     "data": {
      "text/plain": [
       "0      57.05\n",
       "1      52.67\n",
       "2      90.12\n",
       "3      51.51\n",
       "4      72.91\n",
       "       ...  \n",
       "95    103.64\n",
       "96     80.51\n",
       "97     59.21\n",
       "98     97.96\n",
       "99     91.60\n",
       "Name: 0, Length: 100, dtype: float64"
      ]
     },
     "metadata": {},
     "output_type": "display_data"
    }
   ],
   "source": [
    "amostra2 = pd.read_csv(path+\"/pesos_amostra2.csv\",index_col=False,header=None,squeeze=True)\n",
    "display(amostra2)"
   ]
  },
  {
   "cell_type": "code",
   "execution_count": 28,
   "id": "ae22f6a8",
   "metadata": {
    "scrolled": true
   },
   "outputs": [
    {
     "name": "stdout",
     "output_type": "stream",
     "text": [
      "Média da amostra : 72.84\n",
      "Média da população : 161.99\n",
      "Erro padrão : 1.50\n",
      "Distância:  59.24766210534879  erros padrão\n"
     ]
    }
   ],
   "source": [
    "verificaAmostra(amostra2)"
   ]
  },
  {
   "cell_type": "markdown",
   "id": "9759fcf8",
   "metadata": {},
   "source": [
    "<p> Como a distância está há aproximadamente 59,24 erros padrões, isso quer dizer que ele está bem longe da média, sendo assim é bem <b>improvável</b> que esta amostra foi retirada da população de pesos, pois, já que se trata de uma distribuição normal, temos que até 99,7% dos valores estão até 3 erros padrões da média"
   ]
  },
  {
   "cell_type": "markdown",
   "id": "1d33c344",
   "metadata": {},
   "source": [
    "<h2> c) Ler dados da amostra de pesos 3 (amostra_pesos3.csv) e verificar se\n",
    "essa amostra foi retirada ou não da população de pesos. Justifique."
   ]
  },
  {
   "cell_type": "code",
   "execution_count": 15,
   "id": "59a2b641",
   "metadata": {},
   "outputs": [
    {
     "data": {
      "text/plain": [
       "0     214.26\n",
       "1     204.95\n",
       "2     216.39\n",
       "3     202.86\n",
       "4     190.51\n",
       "       ...  \n",
       "95    201.70\n",
       "96    221.31\n",
       "97    218.35\n",
       "98    213.32\n",
       "99    199.10\n",
       "Name: 0, Length: 100, dtype: float64"
      ]
     },
     "metadata": {},
     "output_type": "display_data"
    }
   ],
   "source": [
    "amostra3 = pd.read_csv(path+\"/pesos_amostra3.csv\",index_col=False,header=None,squeeze=True)\n",
    "display(amostra3)"
   ]
  },
  {
   "cell_type": "code",
   "execution_count": 35,
   "id": "0c94d3f0",
   "metadata": {},
   "outputs": [
    {
     "name": "stdout",
     "output_type": "stream",
     "text": [
      "Média da amostra : 210.21\n",
      "Média da população : 161.99\n",
      "Erro padrão : 1.50\n",
      "Distância:  32.04554795410499  erros padrão\n"
     ]
    }
   ],
   "source": [
    "verificaAmostra(amostra3)"
   ]
  },
  {
   "cell_type": "markdown",
   "id": "b47c9b76",
   "metadata": {},
   "source": [
    "<p> Como a distância está há aproximadamente 32,04 erros padrões, isso quer dizer que ele está bem longe da média, sendo assim, assim como a amostra2, é bem <b>improvável</b> que esta amostra foi retirada da população de pesos, pois, já que se trata de uma distribuição normal, temos que até 99,7% dos valores estão até 3 erros padrões da média."
   ]
  },
  {
   "cell_type": "markdown",
   "id": "f240c293",
   "metadata": {},
   "source": [
    "<h2> d) Ler dados da amostra de pesos 4 (amostra_pesos4.csv) e verificar se\n",
    "essa amostra foi retirada ou não da população de pesos. Justifique."
   ]
  },
  {
   "cell_type": "code",
   "execution_count": 20,
   "id": "85c84550",
   "metadata": {},
   "outputs": [
    {
     "data": {
      "text/plain": [
       "0     138.50\n",
       "1     133.93\n",
       "2     146.47\n",
       "3     174.60\n",
       "4     116.79\n",
       "       ...  \n",
       "95    171.52\n",
       "96    159.26\n",
       "97    164.46\n",
       "98    188.13\n",
       "99    163.94\n",
       "Name: 0, Length: 100, dtype: float64"
      ]
     },
     "metadata": {},
     "output_type": "display_data"
    }
   ],
   "source": [
    "amostra4 = pd.read_csv(path+\"/pesos_amostra4.csv\",index_col=False,header=None,squeeze=True)\n",
    "display(amostra4)"
   ]
  },
  {
   "cell_type": "code",
   "execution_count": 29,
   "id": "c752d837",
   "metadata": {},
   "outputs": [
    {
     "name": "stdout",
     "output_type": "stream",
     "text": [
      "Média da amostra : 154.32\n",
      "Média da população : 161.99\n",
      "Erro padrão : 1.50\n",
      "Distância:  5.098573438622101  erros padrão\n"
     ]
    }
   ],
   "source": [
    "verificaAmostra(amostra4)"
   ]
  },
  {
   "cell_type": "markdown",
   "id": "e73c86d3",
   "metadata": {},
   "source": [
    "<p> Como a distância está há aproximadamente 5,1 erros padrões, isso quer dizer que ele está bem longe da média, sendo assim, assim como a amostra3, é bem <b>improvável</b> que esta amostra foi retirada da população de pesos, pois, já que se trata de uma distribuição normal, temos que até 99,7% dos valores estão até 3 erros padrões da média."
   ]
  },
  {
   "cell_type": "markdown",
   "id": "eb685d31",
   "metadata": {},
   "source": [
    "<h2> e) É provável que as amostras 2 e 3 tenham vindo de uma mesma\n",
    "população? Justifique."
   ]
  },
  {
   "cell_type": "markdown",
   "id": "ea002c7c",
   "metadata": {},
   "source": [
    "<p> Vimos que tanto a amostra 2, quanto a amostra 3 não pertencem a população de pesos. Porém, há uma chance destas amostras serem de outras populações, já que ambas estão bem distantes dos valores da população que temos em mãos."
   ]
  },
  {
   "cell_type": "markdown",
   "id": "dcf4f818",
   "metadata": {},
   "source": [
    "<p> Supondo que as duas amostras tenham vindo da mesma população, e uma destas amostras representa bem a população. Logo, se calcularmos o erro padrão da amostra 2 para a amostra 3, supondo que ela representasse bem a população de onde ela veio, obteriamos:"
   ]
  },
  {
   "cell_type": "code",
   "execution_count": 46,
   "id": "d2ba6644",
   "metadata": {},
   "outputs": [
    {
     "name": "stdout",
     "output_type": "stream",
     "text": [
      "Supondo que a amostra2 era a população:\n",
      "Média da amostra A: 72.84\n",
      "Média da amostra B : 210.21\n",
      "Erro padrão : 1.99\n",
      "Distância:  69.02689606928726  erros padrão\n",
      "\n",
      "\n",
      "Supondo que a amostra3 era a população:\n",
      "Média da amostra A: 210.21\n",
      "Média da amostra B : 72.84\n",
      "Erro padrão : 0.90\n",
      "Distância:  152.02323740808774  erros padrão\n"
     ]
    }
   ],
   "source": [
    "def compararDuasAmostras(amostraA,amostraB):\n",
    "    mediaA = amostraA.mean()\n",
    "    mediaB = amostraB.mean()\n",
    "    desvioPadraoAmostraA = amostraA.std()\n",
    "    \n",
    "    erroPadrao = desvioPadraoAmostraA / np.sqrt(amostraB.size)\n",
    "    distancia = abs(mediaA - mediaB) / erroPadrao\n",
    "    \n",
    "    print(\"Média da amostra A:\",format(mediaA,\".2f\"))\n",
    "    print(\"Média da amostra B :\",format(mediaB,\".2f\"))\n",
    "    print(\"Erro padrão :\",format(erroPadrao,\".2f\"))\n",
    "    print(\"Distância: \",distancia,\" erros padrão\")\n",
    "    \n",
    "print(\"Supondo que a amostra2 era a população:\")   \n",
    "compararDuasAmostras(amostra2,amostra3)\n",
    "print(\"\\n\")\n",
    "print(\"Supondo que a amostra3 era a população:\")   \n",
    "compararDuasAmostras(amostra3,amostra2)"
   ]
  },
  {
   "cell_type": "markdown",
   "id": "f0213cc1",
   "metadata": {},
   "source": [
    "<h4> Vemos que nesta amostra, a distância dos dois casos estão bem grandes, agora, comparemos com os mesmos cálculos vindos da amostra 1 com a população original"
   ]
  },
  {
   "cell_type": "code",
   "execution_count": 45,
   "id": "c8217913",
   "metadata": {
    "scrolled": true
   },
   "outputs": [
    {
     "name": "stdout",
     "output_type": "stream",
     "text": [
      "Supondo que a amostra1 era a população:\n",
      "Média da amostra A: 161.89\n",
      "Média da amostra B : 161.99\n",
      "Erro padrão : 0.16\n",
      "Distância:  0.6406646688233073  erros padrão\n",
      "\n",
      "\n",
      "Supondo que a pesos era a população:\n",
      "Média da amostra A: 161.99\n",
      "Média da amostra B : 161.89\n",
      "Erro padrão : 1.50\n",
      "Distância:  0.06787193856048412  erros padrão\n"
     ]
    }
   ],
   "source": [
    "print(\"Supondo que a amostra1 era a população:\")\n",
    "compararDuasAmostras(amostra1,pesos)\n",
    "print(\"\\n\")\n",
    "print(\"Supondo que a pesos era a população:\")\n",
    "compararDuasAmostras(pesos,amostra1)"
   ]
  },
  {
   "cell_type": "markdown",
   "id": "32cbde99",
   "metadata": {},
   "source": [
    "<h4> Conclusão: </h4>\n",
    "Vimos que a distância da amostra 2 para amostra 3 são bem grandes, comparando entre si, portanto, as duas amostras são pouco prováveis de serem da mesma população"
   ]
  },
  {
   "cell_type": "markdown",
   "id": "bdc49fe9",
   "metadata": {},
   "source": [
    "<h3> Outra forma de resolução:"
   ]
  },
  {
   "cell_type": "markdown",
   "id": "062ed6f0",
   "metadata": {},
   "source": [
    "<p> Para que duas amostras tenham vindo da mesma população, elas provavelmente teriam médias bem próximas."
   ]
  },
  {
   "cell_type": "code",
   "execution_count": 38,
   "id": "44737bb1",
   "metadata": {
    "scrolled": true
   },
   "outputs": [
    {
     "name": "stdout",
     "output_type": "stream",
     "text": [
      "Média da amostra 2: 72.84\n",
      "Média da amostra 3: 210.21\n"
     ]
    }
   ],
   "source": [
    "print(\"Média da amostra 2: \"+format(amostra2.mean(),\".2f\"))\n",
    "print(\"Média da amostra 3: \"+format(amostra3.mean(),\".2f\"))"
   ]
  },
  {
   "cell_type": "markdown",
   "id": "2c97222e",
   "metadata": {},
   "source": [
    "<p> Porém, ao observamos as médias, elas estão totalmente opostas, enquanto a amostra 2 está  com valores muito baixos, comparados com a população original, enquanto a amostra 3, possui valores muito altos comparados com a população."
   ]
  },
  {
   "cell_type": "markdown",
   "id": "92a5b0e2",
   "metadata": {},
   "source": [
    "Isto pode significar uma das seguintes situações:\n",
    "<ul>\n",
    "    <li>Estes valores são relativos a duas populações distintas uma das outras, assim como distintas da população original</li>\n",
    "    <li>Estes valores são da mesma população, porém, são amostras totalmente enviesadas, sendo que esta alternativa é bem improvável</li>\n",
    "   \n",
    "</ul>"
   ]
  }
 ],
 "metadata": {
  "kernelspec": {
   "display_name": "data_science",
   "language": "python",
   "name": "data_science"
  },
  "language_info": {
   "codemirror_mode": {
    "name": "ipython",
    "version": 3
   },
   "file_extension": ".py",
   "mimetype": "text/x-python",
   "name": "python",
   "nbconvert_exporter": "python",
   "pygments_lexer": "ipython3",
   "version": "3.9.6"
  }
 },
 "nbformat": 4,
 "nbformat_minor": 5
}

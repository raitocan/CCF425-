{
 "cells": [
  {
   "cell_type": "markdown",
   "id": "87bd0e97",
   "metadata": {},
   "source": [
    "<h2> Atividades prática I </h2> \n",
    "\n",
    "<h3> Nome: João Marcos Alves Modesto Ramos\n",
    "<h3> Matricula: 3506"
   ]
  },
  {
   "cell_type": "markdown",
   "id": "939bd7ff",
   "metadata": {},
   "source": [
    "<h3> 1. Gerar uma Serie com 500 valores aleatórios entre -1000 e 1000, e imprimir o seguinte: </h3>\n"
   ]
  },
  {
   "cell_type": "code",
   "execution_count": 5,
   "id": "e4b6aee2",
   "metadata": {},
   "outputs": [],
   "source": [
    "import pandas as pd\n",
    "import numpy as np\n",
    "import random as rd"
   ]
  },
  {
   "cell_type": "code",
   "execution_count": 30,
   "id": "3645b1fb",
   "metadata": {},
   "outputs": [
    {
     "data": {
      "text/plain": [
       "0      168\n",
       "1      863\n",
       "2      786\n",
       "3     -173\n",
       "4      773\n",
       "      ... \n",
       "495   -808\n",
       "496    850\n",
       "497    610\n",
       "498   -584\n",
       "499    731\n",
       "Length: 500, dtype: int64"
      ]
     },
     "execution_count": 30,
     "metadata": {},
     "output_type": "execute_result"
    }
   ],
   "source": [
    "valores = pd.Series(rd.sample(range(-1000,1000),500))\n",
    "valores"
   ]
  },
  {
   "cell_type": "markdown",
   "id": "403cbf79",
   "metadata": {},
   "source": [
    "<h3>a) O maior e o menor valor </h3>"
   ]
  },
  {
   "cell_type": "code",
   "execution_count": 31,
   "id": "13d9414a",
   "metadata": {},
   "outputs": [
    {
     "data": {
      "text/plain": [
       "995"
      ]
     },
     "execution_count": 31,
     "metadata": {},
     "output_type": "execute_result"
    }
   ],
   "source": [
    "valores.max() #Mostra o maior valor"
   ]
  },
  {
   "cell_type": "code",
   "execution_count": 32,
   "id": "53a49a71",
   "metadata": {},
   "outputs": [
    {
     "data": {
      "text/plain": [
       "-994"
      ]
     },
     "execution_count": 32,
     "metadata": {},
     "output_type": "execute_result"
    }
   ],
   "source": [
    "valores.min() #Mostra o menor valor"
   ]
  },
  {
   "cell_type": "markdown",
   "id": "7f0c2e03",
   "metadata": {},
   "source": [
    "<h3>b) Somente os valores positivos</h3>"
   ]
  },
  {
   "cell_type": "code",
   "execution_count": 33,
   "id": "994f71b3",
   "metadata": {},
   "outputs": [
    {
     "data": {
      "text/plain": [
       "0      168\n",
       "1      863\n",
       "2      786\n",
       "4      773\n",
       "5        3\n",
       "      ... \n",
       "492    991\n",
       "494    651\n",
       "496    850\n",
       "497    610\n",
       "499    731\n",
       "Length: 240, dtype: int64"
      ]
     },
     "execution_count": 33,
     "metadata": {},
     "output_type": "execute_result"
    }
   ],
   "source": [
    "valores[valores > 0]  #Colocando uma cláusula dentro da seleção de valores"
   ]
  },
  {
   "cell_type": "markdown",
   "id": "8f2e2648",
   "metadata": {},
   "source": [
    "<h3> c) Somente os valores ímpares</h3> \n"
   ]
  },
  {
   "cell_type": "code",
   "execution_count": 34,
   "id": "4f6dfade",
   "metadata": {},
   "outputs": [
    {
     "data": {
      "text/plain": [
       "1      863\n",
       "3     -173\n",
       "4      773\n",
       "5        3\n",
       "6      293\n",
       "      ... \n",
       "485    733\n",
       "488     73\n",
       "492    991\n",
       "494    651\n",
       "499    731\n",
       "Length: 256, dtype: int64"
      ]
     },
     "execution_count": 34,
     "metadata": {},
     "output_type": "execute_result"
    }
   ],
   "source": [
    "valores[valores % 2 != 0]  #Colocando uma cláusula dentro da seleção de valores"
   ]
  },
  {
   "cell_type": "markdown",
   "id": "c2940fc8",
   "metadata": {},
   "source": [
    "<h3> d) Os valores das posições/índices de 50 a 100, inclusive </h3>"
   ]
  },
  {
   "cell_type": "code",
   "execution_count": 36,
   "id": "1b70be84",
   "metadata": {},
   "outputs": [
    {
     "data": {
      "text/plain": [
       "50    -694\n",
       "51     418\n",
       "52     614\n",
       "53    -405\n",
       "54     666\n",
       "55    -346\n",
       "56    -273\n",
       "57     531\n",
       "58     366\n",
       "59    -568\n",
       "60    -364\n",
       "61    -434\n",
       "62     671\n",
       "63     713\n",
       "64     802\n",
       "65    -989\n",
       "66     101\n",
       "67    -235\n",
       "68    -630\n",
       "69     809\n",
       "70    -376\n",
       "71    -363\n",
       "72    -994\n",
       "73    -460\n",
       "74     716\n",
       "75     115\n",
       "76    -658\n",
       "77     568\n",
       "78     126\n",
       "79    -201\n",
       "80    -917\n",
       "81    -297\n",
       "82     759\n",
       "83    -255\n",
       "84     510\n",
       "85     849\n",
       "86     466\n",
       "87     241\n",
       "88    -564\n",
       "89     180\n",
       "90     499\n",
       "91     598\n",
       "92    -585\n",
       "93     123\n",
       "94    -850\n",
       "95      20\n",
       "96     574\n",
       "97    -977\n",
       "98     242\n",
       "99    -882\n",
       "100    350\n",
       "dtype: int64"
      ]
     },
     "execution_count": 36,
     "metadata": {},
     "output_type": "execute_result"
    }
   ],
   "source": [
    "valores[50:101] #Seleção entre valores, sendo que o primeiro elemento é intervalo fechado e o segundo intervalo aberto"
   ]
  },
  {
   "cell_type": "markdown",
   "id": "6c683d41",
   "metadata": {},
   "source": [
    "<h3> e) A quantidade de valores pares\n"
   ]
  },
  {
   "cell_type": "code",
   "execution_count": 40,
   "id": "9a4107be",
   "metadata": {},
   "outputs": [
    {
     "data": {
      "text/plain": [
       "244"
      ]
     },
     "execution_count": 40,
     "metadata": {},
     "output_type": "execute_result"
    }
   ],
   "source": [
    "valores[valores % 2 == 0].count()  #Encadeamento da função count no resultado da seleção"
   ]
  },
  {
   "cell_type": "markdown",
   "id": "2b655a2c",
   "metadata": {},
   "source": [
    "<h3> f) A quantidade de valores maiores que 500"
   ]
  },
  {
   "cell_type": "code",
   "execution_count": 48,
   "id": "ffef4dcb",
   "metadata": {},
   "outputs": [
    {
     "data": {
      "text/plain": [
       "128"
      ]
     },
     "execution_count": 48,
     "metadata": {},
     "output_type": "execute_result"
    }
   ],
   "source": [
    "valores[valores > 500].count()"
   ]
  },
  {
   "cell_type": "markdown",
   "id": "1c07842a",
   "metadata": {},
   "source": [
    "<h3> e) Os valores maiores que 500 e menores que 700"
   ]
  },
  {
   "cell_type": "code",
   "execution_count": 51,
   "id": "163e2032",
   "metadata": {},
   "outputs": [
    {
     "data": {
      "text/plain": [
       "19     657\n",
       "29     664\n",
       "35     516\n",
       "52     614\n",
       "54     666\n",
       "57     531\n",
       "62     671\n",
       "77     568\n",
       "84     510\n",
       "91     598\n",
       "96     574\n",
       "112    584\n",
       "117    558\n",
       "119    572\n",
       "122    512\n",
       "136    638\n",
       "182    555\n",
       "203    605\n",
       "229    696\n",
       "233    680\n",
       "267    534\n",
       "287    683\n",
       "288    528\n",
       "289    654\n",
       "297    580\n",
       "306    570\n",
       "309    539\n",
       "315    587\n",
       "316    675\n",
       "326    682\n",
       "328    679\n",
       "348    581\n",
       "355    561\n",
       "365    579\n",
       "368    592\n",
       "388    678\n",
       "391    504\n",
       "392    637\n",
       "394    662\n",
       "398    674\n",
       "400    589\n",
       "407    633\n",
       "416    609\n",
       "419    641\n",
       "424    632\n",
       "427    514\n",
       "430    697\n",
       "448    591\n",
       "477    511\n",
       "479    688\n",
       "480    607\n",
       "482    624\n",
       "494    651\n",
       "497    610\n",
       "dtype: int64"
      ]
     },
     "execution_count": 51,
     "metadata": {},
     "output_type": "execute_result"
    }
   ],
   "source": [
    "valores[(valores > 500) & (valores < 700)] #Encadeamento de cláusulas"
   ]
  },
  {
   "cell_type": "markdown",
   "id": "02bcac94",
   "metadata": {},
   "source": [
    "<h3> f) A raiz quadrada de todos os valores"
   ]
  },
  {
   "cell_type": "code",
   "execution_count": 55,
   "id": "2a0fa574",
   "metadata": {},
   "outputs": [
    {
     "data": {
      "text/plain": [
       "0      12.961481\n",
       "1      29.376862\n",
       "2      28.035692\n",
       "3            NaN\n",
       "4      27.802878\n",
       "         ...    \n",
       "495          NaN\n",
       "496    29.154759\n",
       "497    24.698178\n",
       "498          NaN\n",
       "499    27.037012\n",
       "Length: 500, dtype: float64"
      ]
     },
     "execution_count": 55,
     "metadata": {},
     "output_type": "execute_result"
    }
   ],
   "source": [
    "valores.pow(1/2) #Todo número elevado a 1/2 -> Sua raiz quadrada"
   ]
  }
 ],
 "metadata": {
  "kernelspec": {
   "display_name": "geo_env",
   "language": "python",
   "name": "geo_env"
  },
  "language_info": {
   "codemirror_mode": {
    "name": "ipython",
    "version": 3
   },
   "file_extension": ".py",
   "mimetype": "text/x-python",
   "name": "python",
   "nbconvert_exporter": "python",
   "pygments_lexer": "ipython3",
   "version": "3.9.6"
  }
 },
 "nbformat": 4,
 "nbformat_minor": 5
}
